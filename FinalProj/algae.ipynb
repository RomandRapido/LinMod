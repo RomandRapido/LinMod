{
 "cells": [
  {
   "cell_type": "code",
   "execution_count": 34,
   "id": "0b7443cb",
   "metadata": {},
   "outputs": [],
   "source": [
    "import pandas as pd\n",
    "import numpy as np\n",
    "import matplotlib.pyplot as plt\n",
    "import seaborn as sns\n",
    "from sklearn.model_selection import train_test_split\n",
    "\n",
    "df = pd.read_csv(\"C:/Users/Harvey/Downloads/Harmful Algae Blooms in Bolinao (from HABhub) - Sheet1.csv\")\n",
    "\n",
    "# Modify the original DataFrame to keep only the specified columns\n",
    "df = df.loc[:, [\"dissolved oxygen\", \"ph\", \"water temp\", \"chlorophyll-a\"]]\n",
    "\n",
    "# Split the DataFrame into train (80%) and test (20%) sets\n",
    "df_train, df_test = train_test_split(df, test_size=0.2, random_state=42)\n"
   ]
  },
  {
   "cell_type": "code",
   "execution_count": 35,
   "id": "01330e46",
   "metadata": {},
   "outputs": [
    {
     "data": {
      "application/vnd.microsoft.datawrangler.viewer.v0+json": {
       "columns": [
        {
         "name": "index",
         "rawType": "int64",
         "type": "integer"
        },
        {
         "name": "dissolved oxygen",
         "rawType": "float64",
         "type": "float"
        },
        {
         "name": "ph",
         "rawType": "float64",
         "type": "float"
        },
        {
         "name": "water temp",
         "rawType": "float64",
         "type": "float"
        },
        {
         "name": "chlorophyll-a",
         "rawType": "float64",
         "type": "float"
        }
       ],
       "conversionMethod": "pd.DataFrame",
       "ref": "582aadb7-083e-466c-bf58-903933add7a3",
       "rows": [
        [
         "1352",
         "-2.6848",
         "6.914",
         "30.6774",
         "4.6948"
        ],
        [
         "141",
         "0.3344",
         "7.5692",
         "29.8578",
         "3.4848"
        ],
        [
         "2",
         "-0.9472",
         "7.5881",
         "28.7926",
         "2.6257"
        ]
       ],
       "shape": {
        "columns": 4,
        "rows": 3
       }
      },
      "text/html": [
       "<div>\n",
       "<style scoped>\n",
       "    .dataframe tbody tr th:only-of-type {\n",
       "        vertical-align: middle;\n",
       "    }\n",
       "\n",
       "    .dataframe tbody tr th {\n",
       "        vertical-align: top;\n",
       "    }\n",
       "\n",
       "    .dataframe thead th {\n",
       "        text-align: right;\n",
       "    }\n",
       "</style>\n",
       "<table border=\"1\" class=\"dataframe\">\n",
       "  <thead>\n",
       "    <tr style=\"text-align: right;\">\n",
       "      <th></th>\n",
       "      <th>dissolved oxygen</th>\n",
       "      <th>ph</th>\n",
       "      <th>water temp</th>\n",
       "      <th>chlorophyll-a</th>\n",
       "    </tr>\n",
       "  </thead>\n",
       "  <tbody>\n",
       "    <tr>\n",
       "      <th>1352</th>\n",
       "      <td>-2.6848</td>\n",
       "      <td>6.9140</td>\n",
       "      <td>30.6774</td>\n",
       "      <td>4.6948</td>\n",
       "    </tr>\n",
       "    <tr>\n",
       "      <th>141</th>\n",
       "      <td>0.3344</td>\n",
       "      <td>7.5692</td>\n",
       "      <td>29.8578</td>\n",
       "      <td>3.4848</td>\n",
       "    </tr>\n",
       "    <tr>\n",
       "      <th>2</th>\n",
       "      <td>-0.9472</td>\n",
       "      <td>7.5881</td>\n",
       "      <td>28.7926</td>\n",
       "      <td>2.6257</td>\n",
       "    </tr>\n",
       "  </tbody>\n",
       "</table>\n",
       "</div>"
      ],
      "text/plain": [
       "      dissolved oxygen      ph  water temp  chlorophyll-a\n",
       "1352           -2.6848  6.9140     30.6774         4.6948\n",
       "141             0.3344  7.5692     29.8578         3.4848\n",
       "2              -0.9472  7.5881     28.7926         2.6257"
      ]
     },
     "metadata": {},
     "output_type": "display_data"
    },
    {
     "data": {
      "application/vnd.microsoft.datawrangler.viewer.v0+json": {
       "columns": [
        {
         "name": "index",
         "rawType": "int64",
         "type": "integer"
        },
        {
         "name": "dissolved oxygen",
         "rawType": "float64",
         "type": "float"
        },
        {
         "name": "ph",
         "rawType": "float64",
         "type": "float"
        },
        {
         "name": "water temp",
         "rawType": "float64",
         "type": "float"
        },
        {
         "name": "chlorophyll-a",
         "rawType": "float64",
         "type": "float"
        }
       ],
       "conversionMethod": "pd.DataFrame",
       "ref": "58369743-514d-4146-8a17-b6ef4a5690f3",
       "rows": [
        [
         "1118",
         "-1.1248",
         "6.9518",
         "29.1989",
         "1.7545"
        ],
        [
         "1653",
         "-2.0992",
         "6.8951",
         "30.7062",
         "2.2143"
        ],
        [
         "1864",
         "1.0065",
         "0.36",
         "30.9297",
         "1.8271"
        ]
       ],
       "shape": {
        "columns": 4,
        "rows": 3
       }
      },
      "text/html": [
       "<div>\n",
       "<style scoped>\n",
       "    .dataframe tbody tr th:only-of-type {\n",
       "        vertical-align: middle;\n",
       "    }\n",
       "\n",
       "    .dataframe tbody tr th {\n",
       "        vertical-align: top;\n",
       "    }\n",
       "\n",
       "    .dataframe thead th {\n",
       "        text-align: right;\n",
       "    }\n",
       "</style>\n",
       "<table border=\"1\" class=\"dataframe\">\n",
       "  <thead>\n",
       "    <tr style=\"text-align: right;\">\n",
       "      <th></th>\n",
       "      <th>dissolved oxygen</th>\n",
       "      <th>ph</th>\n",
       "      <th>water temp</th>\n",
       "      <th>chlorophyll-a</th>\n",
       "    </tr>\n",
       "  </thead>\n",
       "  <tbody>\n",
       "    <tr>\n",
       "      <th>1118</th>\n",
       "      <td>-1.1248</td>\n",
       "      <td>6.9518</td>\n",
       "      <td>29.1989</td>\n",
       "      <td>1.7545</td>\n",
       "    </tr>\n",
       "    <tr>\n",
       "      <th>1653</th>\n",
       "      <td>-2.0992</td>\n",
       "      <td>6.8951</td>\n",
       "      <td>30.7062</td>\n",
       "      <td>2.2143</td>\n",
       "    </tr>\n",
       "    <tr>\n",
       "      <th>1864</th>\n",
       "      <td>1.0065</td>\n",
       "      <td>0.3600</td>\n",
       "      <td>30.9297</td>\n",
       "      <td>1.8271</td>\n",
       "    </tr>\n",
       "  </tbody>\n",
       "</table>\n",
       "</div>"
      ],
      "text/plain": [
       "      dissolved oxygen      ph  water temp  chlorophyll-a\n",
       "1118           -1.1248  6.9518     29.1989         1.7545\n",
       "1653           -2.0992  6.8951     30.7062         2.2143\n",
       "1864            1.0065  0.3600     30.9297         1.8271"
      ]
     },
     "metadata": {},
     "output_type": "display_data"
    }
   ],
   "source": [
    "display(df_train.head(3))\n",
    "display(df_test.head(3))"
   ]
  },
  {
   "cell_type": "code",
   "execution_count": 36,
   "id": "76d1f55c",
   "metadata": {},
   "outputs": [
    {
     "name": "stdout",
     "output_type": "stream",
     "text": [
      "(1543, 4)\n",
      "(386, 4)\n"
     ]
    }
   ],
   "source": [
    "print(df_train.shape)\n",
    "print(df_test.shape)"
   ]
  },
  {
   "cell_type": "code",
   "execution_count": 37,
   "id": "145b53e4",
   "metadata": {},
   "outputs": [
    {
     "name": "stdout",
     "output_type": "stream",
     "text": [
      "<class 'pandas.core.frame.DataFrame'>\n",
      "Index: 1543 entries, 1352 to 1126\n",
      "Data columns (total 4 columns):\n",
      " #   Column            Non-Null Count  Dtype  \n",
      "---  ------            --------------  -----  \n",
      " 0   dissolved oxygen  1543 non-null   float64\n",
      " 1   ph                1543 non-null   float64\n",
      " 2   water temp        1543 non-null   float64\n",
      " 3   chlorophyll-a     1543 non-null   float64\n",
      "dtypes: float64(4)\n",
      "memory usage: 60.3 KB\n"
     ]
    }
   ],
   "source": [
    "df_train.info()"
   ]
  },
  {
   "cell_type": "code",
   "execution_count": 38,
   "id": "af9cddc2",
   "metadata": {},
   "outputs": [
    {
     "data": {
      "application/vnd.microsoft.datawrangler.viewer.v0+json": {
       "columns": [
        {
         "name": "index",
         "rawType": "object",
         "type": "string"
        },
        {
         "name": "dissolved oxygen",
         "rawType": "float64",
         "type": "float"
        },
        {
         "name": "ph",
         "rawType": "float64",
         "type": "float"
        },
        {
         "name": "water temp",
         "rawType": "float64",
         "type": "float"
        },
        {
         "name": "chlorophyll-a",
         "rawType": "float64",
         "type": "float"
        }
       ],
       "conversionMethod": "pd.DataFrame",
       "ref": "f65b0f36-3ae4-4315-928e-61a00c78834a",
       "rows": [
        [
         "count",
         "1543.0",
         "1543.0",
         "1543.0",
         "1543.0"
        ],
        [
         "mean",
         "0.05760505508749196",
         "6.406681788723266",
         "30.509411924821773",
         "5.162779066753079"
        ],
        [
         "std",
         "3.5231411075391255",
         "1.921612734164365",
         "1.1080914348567859",
         "4.798533393222511"
        ],
        [
         "min",
         "-2.6992",
         "-0.27",
         "27.3432",
         "0.7018"
        ],
        [
         "25%",
         "-1.7511999999999999",
         "6.8132",
         "29.79245",
         "2.42"
        ],
        [
         "50%",
         "-0.7792",
         "6.8951",
         "30.508",
         "3.6784"
        ],
        [
         "75%",
         "0.72455",
         "6.9959",
         "31.28255",
         "6.0379"
        ],
        [
         "max",
         "24.888",
         "8.0606",
         "33.9583",
         "41.8297"
        ]
       ],
       "shape": {
        "columns": 4,
        "rows": 8
       }
      },
      "text/html": [
       "<div>\n",
       "<style scoped>\n",
       "    .dataframe tbody tr th:only-of-type {\n",
       "        vertical-align: middle;\n",
       "    }\n",
       "\n",
       "    .dataframe tbody tr th {\n",
       "        vertical-align: top;\n",
       "    }\n",
       "\n",
       "    .dataframe thead th {\n",
       "        text-align: right;\n",
       "    }\n",
       "</style>\n",
       "<table border=\"1\" class=\"dataframe\">\n",
       "  <thead>\n",
       "    <tr style=\"text-align: right;\">\n",
       "      <th></th>\n",
       "      <th>dissolved oxygen</th>\n",
       "      <th>ph</th>\n",
       "      <th>water temp</th>\n",
       "      <th>chlorophyll-a</th>\n",
       "    </tr>\n",
       "  </thead>\n",
       "  <tbody>\n",
       "    <tr>\n",
       "      <th>count</th>\n",
       "      <td>1543.000000</td>\n",
       "      <td>1543.000000</td>\n",
       "      <td>1543.000000</td>\n",
       "      <td>1543.000000</td>\n",
       "    </tr>\n",
       "    <tr>\n",
       "      <th>mean</th>\n",
       "      <td>0.057605</td>\n",
       "      <td>6.406682</td>\n",
       "      <td>30.509412</td>\n",
       "      <td>5.162779</td>\n",
       "    </tr>\n",
       "    <tr>\n",
       "      <th>std</th>\n",
       "      <td>3.523141</td>\n",
       "      <td>1.921613</td>\n",
       "      <td>1.108091</td>\n",
       "      <td>4.798533</td>\n",
       "    </tr>\n",
       "    <tr>\n",
       "      <th>min</th>\n",
       "      <td>-2.699200</td>\n",
       "      <td>-0.270000</td>\n",
       "      <td>27.343200</td>\n",
       "      <td>0.701800</td>\n",
       "    </tr>\n",
       "    <tr>\n",
       "      <th>25%</th>\n",
       "      <td>-1.751200</td>\n",
       "      <td>6.813200</td>\n",
       "      <td>29.792450</td>\n",
       "      <td>2.420000</td>\n",
       "    </tr>\n",
       "    <tr>\n",
       "      <th>50%</th>\n",
       "      <td>-0.779200</td>\n",
       "      <td>6.895100</td>\n",
       "      <td>30.508000</td>\n",
       "      <td>3.678400</td>\n",
       "    </tr>\n",
       "    <tr>\n",
       "      <th>75%</th>\n",
       "      <td>0.724550</td>\n",
       "      <td>6.995900</td>\n",
       "      <td>31.282550</td>\n",
       "      <td>6.037900</td>\n",
       "    </tr>\n",
       "    <tr>\n",
       "      <th>max</th>\n",
       "      <td>24.888000</td>\n",
       "      <td>8.060600</td>\n",
       "      <td>33.958300</td>\n",
       "      <td>41.829700</td>\n",
       "    </tr>\n",
       "  </tbody>\n",
       "</table>\n",
       "</div>"
      ],
      "text/plain": [
       "       dissolved oxygen           ph   water temp  chlorophyll-a\n",
       "count       1543.000000  1543.000000  1543.000000    1543.000000\n",
       "mean           0.057605     6.406682    30.509412       5.162779\n",
       "std            3.523141     1.921613     1.108091       4.798533\n",
       "min           -2.699200    -0.270000    27.343200       0.701800\n",
       "25%           -1.751200     6.813200    29.792450       2.420000\n",
       "50%           -0.779200     6.895100    30.508000       3.678400\n",
       "75%            0.724550     6.995900    31.282550       6.037900\n",
       "max           24.888000     8.060600    33.958300      41.829700"
      ]
     },
     "execution_count": 38,
     "metadata": {},
     "output_type": "execute_result"
    }
   ],
   "source": [
    "df_train.describe()"
   ]
  },
  {
   "cell_type": "code",
   "execution_count": 39,
   "id": "987bf5a1",
   "metadata": {},
   "outputs": [
    {
     "data": {
      "text/plain": [
       "Index(['dissolved oxygen', 'ph', 'water temp', 'chlorophyll-a'], dtype='object')"
      ]
     },
     "execution_count": 39,
     "metadata": {},
     "output_type": "execute_result"
    }
   ],
   "source": [
    "df_train.describe().columns"
   ]
  },
  {
   "cell_type": "code",
   "execution_count": 40,
   "id": "4f99b1cd",
   "metadata": {},
   "outputs": [
    {
     "data": {
      "text/plain": [
       "Index(['dissolved oxygen', 'ph', 'water temp', 'chlorophyll-a'], dtype='object')"
      ]
     },
     "execution_count": 40,
     "metadata": {},
     "output_type": "execute_result"
    }
   ],
   "source": [
    "df_train.columns"
   ]
  },
  {
   "cell_type": "code",
   "execution_count": 41,
   "id": "ebeb257e",
   "metadata": {},
   "outputs": [],
   "source": [
    "df_train_n = []\n",
    "df_train_c = []\n",
    "\n",
    "for column in df_train.describe().columns:\n",
    "    df_train_n.append(column)\n",
    "\n",
    "for column in df_train.columns:\n",
    "    if column not in df_train_n:\n",
    "        df_train_c.append(column)\n",
    "\n",
    "df_train_num = df_train[df_train_n]\n",
    "df_train_cat = df_train[df_train_c]\n"
   ]
  },
  {
   "cell_type": "code",
   "execution_count": 42,
   "id": "c9018548",
   "metadata": {},
   "outputs": [
    {
     "data": {
      "application/vnd.microsoft.datawrangler.viewer.v0+json": {
       "columns": [
        {
         "name": "index",
         "rawType": "int64",
         "type": "integer"
        },
        {
         "name": "dissolved oxygen",
         "rawType": "float64",
         "type": "float"
        },
        {
         "name": "ph",
         "rawType": "float64",
         "type": "float"
        },
        {
         "name": "water temp",
         "rawType": "float64",
         "type": "float"
        },
        {
         "name": "chlorophyll-a",
         "rawType": "float64",
         "type": "float"
        }
       ],
       "conversionMethod": "pd.DataFrame",
       "ref": "4015084b-6745-4b0d-9779-534b8045f680",
       "rows": [
        [
         "1352",
         "-2.6848",
         "6.914",
         "30.6774",
         "4.6948"
        ],
        [
         "141",
         "0.3344",
         "7.5692",
         "29.8578",
         "3.4848"
        ],
        [
         "2",
         "-0.9472",
         "7.5881",
         "28.7926",
         "2.6257"
        ],
        [
         "1190",
         "-0.7552",
         "6.8762",
         "30.254",
         "2.9645"
        ],
        [
         "1803",
         "1.1163",
         "-0.27",
         "32.4355",
         "1.6214"
        ],
        [
         "1116",
         "-0.8416",
         "7.0274",
         "28.9762",
         "1.7908"
        ],
        [
         "339",
         "-1.7968",
         "7.0715",
         "29.0388",
         "2.2506"
        ],
        [
         "584",
         "-1.4032",
         "7.5692",
         "27.916",
         "7.8045"
        ],
        [
         "607",
         "-1.216",
         "7.2227",
         "29.1612",
         "18.1379"
        ],
        [
         "963",
         "2.6864",
         "6.9329",
         "30.5702",
         "7.3326"
        ],
        [
         "1754",
         "8.8328",
         "0.54",
         "30.932",
         "1.9965"
        ],
        [
         "1220",
         "-0.9088",
         "6.7943",
         "31.0901",
         "6.0379"
        ],
        [
         "271",
         "-1.6192",
         "6.2021",
         "29.9948",
         "3.9446"
        ],
        [
         "184",
         "0.8",
         "6.9329",
         "28.8798",
         "3.4606"
        ],
        [
         "1836",
         "2.2753",
         "0.72",
         "30.9298",
         "2.42"
        ],
        [
         "244",
         "-1.8016",
         "6.914",
         "29.482",
         "2.904"
        ],
        [
         "495",
         "0.2576",
         "6.9014",
         "31.5183",
         "9.0508"
        ],
        [
         "552",
         "0.464",
         "7.0904",
         "29.0438",
         "4.8763"
        ],
        [
         "759",
         "-2.1568",
         "6.9833",
         "30.6546",
         "3.5211"
        ],
        [
         "1486",
         "-2.6992",
         "6.8573",
         "29.7184",
         "1.1737"
        ],
        [
         "843",
         "-1.3984",
         "6.914",
         "30.8362",
         "6.7397"
        ],
        [
         "631",
         "-1.4896",
         "6.9329",
         "31.1759",
         "11.8217"
        ],
        [
         "1853",
         "21.0816",
         "0.27",
         "31.1088",
         "1.694"
        ],
        [
         "1245",
         "2.2832",
         "6.7628",
         "31.8908",
         "14.52"
        ],
        [
         "679",
         "-1.6096",
         "6.9392",
         "31.853",
         "8.7967"
        ],
        [
         "1700",
         "-1.3264",
         "6.8762",
         "30.4854",
         "4.8521"
        ],
        [
         "1403",
         "-2.4688",
         "6.8384",
         "30.2039",
         "1.5004"
        ],
        [
         "250",
         "-0.1792",
         "6.8006",
         "30.8528",
         "5.8322"
        ],
        [
         "413",
         "-0.7216",
         "6.8195",
         "33.3087",
         "3.4243"
        ],
        [
         "1460",
         "-2.6992",
         "6.788",
         "29.7753",
         "1.5851"
        ],
        [
         "1696",
         "-1.2016",
         "6.8888",
         "30.4669",
         "8.0223"
        ],
        [
         "1054",
         "0.6704",
         "6.8825",
         "31.131",
         "4.8037"
        ],
        [
         "599",
         "-0.6832",
         "7.1849",
         "29.0894",
         "6.7881"
        ],
        [
         "381",
         "-1.2976",
         "7.1282",
         "30.5526",
         "26.3296"
        ],
        [
         "798",
         "-1.2976",
         "6.914",
         "31.108",
         "4.4286"
        ],
        [
         "985",
         "3.368",
         "6.9077",
         "30.3194",
         "8.4095"
        ],
        [
         "1063",
         "-0.112",
         "6.8195",
         "30.6927",
         "3.2428"
        ],
        [
         "710",
         "-1.0048",
         "7.1849",
         "31.208",
         "4.961"
        ],
        [
         "1305",
         "-2.6608",
         "6.9329",
         "32.0599",
         "6.5703"
        ],
        [
         "408",
         "-0.76",
         "6.9266",
         "31.2196",
         "6.9454"
        ],
        [
         "1581",
         "-0.8512",
         "6.914",
         "30.5202",
         "6.1105"
        ],
        [
         "994",
         "0.5984",
         "6.9959",
         "29.99",
         "3.2912"
        ],
        [
         "864",
         "-0.6592",
         "7.0085",
         "30.2049",
         "7.7198"
        ],
        [
         "1200",
         "0.4928",
         "6.8825",
         "30.6088",
         "10.8537"
        ],
        [
         "519",
         "-1.024",
         "7.2479",
         "29.3835",
         "4.4649"
        ],
        [
         "792",
         "1.0208",
         "6.8006",
         "31.8309",
         "6.2799"
        ],
        [
         "182",
         "0.8048",
         "6.914",
         "29.0154",
         "3.8357"
        ],
        [
         "1196",
         "-0.2272",
         "6.7691",
         "30.6469",
         "5.1546"
        ],
        [
         "170",
         "1.2224",
         "7.1597",
         "28.6215",
         "3.0008"
        ],
        [
         "292",
         "-2.056",
         "6.7565",
         "29.5769",
         "2.4079"
        ]
       ],
       "shape": {
        "columns": 4,
        "rows": 1543
       }
      },
      "text/html": [
       "<div>\n",
       "<style scoped>\n",
       "    .dataframe tbody tr th:only-of-type {\n",
       "        vertical-align: middle;\n",
       "    }\n",
       "\n",
       "    .dataframe tbody tr th {\n",
       "        vertical-align: top;\n",
       "    }\n",
       "\n",
       "    .dataframe thead th {\n",
       "        text-align: right;\n",
       "    }\n",
       "</style>\n",
       "<table border=\"1\" class=\"dataframe\">\n",
       "  <thead>\n",
       "    <tr style=\"text-align: right;\">\n",
       "      <th></th>\n",
       "      <th>dissolved oxygen</th>\n",
       "      <th>ph</th>\n",
       "      <th>water temp</th>\n",
       "      <th>chlorophyll-a</th>\n",
       "    </tr>\n",
       "  </thead>\n",
       "  <tbody>\n",
       "    <tr>\n",
       "      <th>1352</th>\n",
       "      <td>-2.6848</td>\n",
       "      <td>6.9140</td>\n",
       "      <td>30.6774</td>\n",
       "      <td>4.6948</td>\n",
       "    </tr>\n",
       "    <tr>\n",
       "      <th>141</th>\n",
       "      <td>0.3344</td>\n",
       "      <td>7.5692</td>\n",
       "      <td>29.8578</td>\n",
       "      <td>3.4848</td>\n",
       "    </tr>\n",
       "    <tr>\n",
       "      <th>2</th>\n",
       "      <td>-0.9472</td>\n",
       "      <td>7.5881</td>\n",
       "      <td>28.7926</td>\n",
       "      <td>2.6257</td>\n",
       "    </tr>\n",
       "    <tr>\n",
       "      <th>1190</th>\n",
       "      <td>-0.7552</td>\n",
       "      <td>6.8762</td>\n",
       "      <td>30.2540</td>\n",
       "      <td>2.9645</td>\n",
       "    </tr>\n",
       "    <tr>\n",
       "      <th>1803</th>\n",
       "      <td>1.1163</td>\n",
       "      <td>-0.2700</td>\n",
       "      <td>32.4355</td>\n",
       "      <td>1.6214</td>\n",
       "    </tr>\n",
       "    <tr>\n",
       "      <th>...</th>\n",
       "      <td>...</td>\n",
       "      <td>...</td>\n",
       "      <td>...</td>\n",
       "      <td>...</td>\n",
       "    </tr>\n",
       "    <tr>\n",
       "      <th>1130</th>\n",
       "      <td>-1.3408</td>\n",
       "      <td>6.9896</td>\n",
       "      <td>29.6580</td>\n",
       "      <td>2.9282</td>\n",
       "    </tr>\n",
       "    <tr>\n",
       "      <th>1294</th>\n",
       "      <td>0.2960</td>\n",
       "      <td>6.8825</td>\n",
       "      <td>31.8933</td>\n",
       "      <td>7.3689</td>\n",
       "    </tr>\n",
       "    <tr>\n",
       "      <th>860</th>\n",
       "      <td>-1.2544</td>\n",
       "      <td>6.8069</td>\n",
       "      <td>30.6729</td>\n",
       "      <td>4.5980</td>\n",
       "    </tr>\n",
       "    <tr>\n",
       "      <th>1459</th>\n",
       "      <td>-2.6992</td>\n",
       "      <td>6.7754</td>\n",
       "      <td>29.7998</td>\n",
       "      <td>1.6335</td>\n",
       "    </tr>\n",
       "    <tr>\n",
       "      <th>1126</th>\n",
       "      <td>-0.9040</td>\n",
       "      <td>6.8951</td>\n",
       "      <td>30.2699</td>\n",
       "      <td>5.6628</td>\n",
       "    </tr>\n",
       "  </tbody>\n",
       "</table>\n",
       "<p>1543 rows × 4 columns</p>\n",
       "</div>"
      ],
      "text/plain": [
       "      dissolved oxygen      ph  water temp  chlorophyll-a\n",
       "1352           -2.6848  6.9140     30.6774         4.6948\n",
       "141             0.3344  7.5692     29.8578         3.4848\n",
       "2              -0.9472  7.5881     28.7926         2.6257\n",
       "1190           -0.7552  6.8762     30.2540         2.9645\n",
       "1803            1.1163 -0.2700     32.4355         1.6214\n",
       "...                ...     ...         ...            ...\n",
       "1130           -1.3408  6.9896     29.6580         2.9282\n",
       "1294            0.2960  6.8825     31.8933         7.3689\n",
       "860            -1.2544  6.8069     30.6729         4.5980\n",
       "1459           -2.6992  6.7754     29.7998         1.6335\n",
       "1126           -0.9040  6.8951     30.2699         5.6628\n",
       "\n",
       "[1543 rows x 4 columns]"
      ]
     },
     "execution_count": 42,
     "metadata": {},
     "output_type": "execute_result"
    }
   ],
   "source": [
    "df_train_num"
   ]
  },
  {
   "cell_type": "code",
   "execution_count": 43,
   "id": "50e3f2e3",
   "metadata": {},
   "outputs": [
    {
     "data": {
      "application/vnd.microsoft.datawrangler.viewer.v0+json": {
       "columns": [
        {
         "name": "index",
         "rawType": "int64",
         "type": "integer"
        }
       ],
       "conversionMethod": "pd.DataFrame",
       "ref": "0c394256-88fa-4eef-b733-4714c7f0834a",
       "rows": [
        [
         "1352"
        ],
        [
         "141"
        ],
        [
         "2"
        ],
        [
         "1190"
        ],
        [
         "1803"
        ],
        [
         "1116"
        ],
        [
         "339"
        ],
        [
         "584"
        ],
        [
         "607"
        ],
        [
         "963"
        ],
        [
         "1754"
        ],
        [
         "1220"
        ],
        [
         "271"
        ],
        [
         "184"
        ],
        [
         "1836"
        ],
        [
         "244"
        ],
        [
         "495"
        ],
        [
         "552"
        ],
        [
         "759"
        ],
        [
         "1486"
        ],
        [
         "843"
        ],
        [
         "631"
        ],
        [
         "1853"
        ],
        [
         "1245"
        ],
        [
         "679"
        ],
        [
         "1700"
        ],
        [
         "1403"
        ],
        [
         "250"
        ],
        [
         "413"
        ],
        [
         "1460"
        ],
        [
         "1696"
        ],
        [
         "1054"
        ],
        [
         "599"
        ],
        [
         "381"
        ],
        [
         "798"
        ],
        [
         "985"
        ],
        [
         "1063"
        ],
        [
         "710"
        ],
        [
         "1305"
        ],
        [
         "408"
        ],
        [
         "1581"
        ],
        [
         "994"
        ],
        [
         "864"
        ],
        [
         "1200"
        ],
        [
         "519"
        ],
        [
         "792"
        ],
        [
         "182"
        ],
        [
         "1196"
        ],
        [
         "170"
        ],
        [
         "292"
        ]
       ],
       "shape": {
        "columns": 0,
        "rows": 1543
       }
      },
      "text/html": [
       "<div>\n",
       "<style scoped>\n",
       "    .dataframe tbody tr th:only-of-type {\n",
       "        vertical-align: middle;\n",
       "    }\n",
       "\n",
       "    .dataframe tbody tr th {\n",
       "        vertical-align: top;\n",
       "    }\n",
       "\n",
       "    .dataframe thead th {\n",
       "        text-align: right;\n",
       "    }\n",
       "</style>\n",
       "<table border=\"1\" class=\"dataframe\">\n",
       "  <thead>\n",
       "    <tr style=\"text-align: right;\">\n",
       "      <th></th>\n",
       "    </tr>\n",
       "  </thead>\n",
       "  <tbody>\n",
       "    <tr>\n",
       "      <th>1352</th>\n",
       "    </tr>\n",
       "    <tr>\n",
       "      <th>141</th>\n",
       "    </tr>\n",
       "    <tr>\n",
       "      <th>2</th>\n",
       "    </tr>\n",
       "    <tr>\n",
       "      <th>1190</th>\n",
       "    </tr>\n",
       "    <tr>\n",
       "      <th>1803</th>\n",
       "    </tr>\n",
       "    <tr>\n",
       "      <th>...</th>\n",
       "    </tr>\n",
       "    <tr>\n",
       "      <th>1130</th>\n",
       "    </tr>\n",
       "    <tr>\n",
       "      <th>1294</th>\n",
       "    </tr>\n",
       "    <tr>\n",
       "      <th>860</th>\n",
       "    </tr>\n",
       "    <tr>\n",
       "      <th>1459</th>\n",
       "    </tr>\n",
       "    <tr>\n",
       "      <th>1126</th>\n",
       "    </tr>\n",
       "  </tbody>\n",
       "</table>\n",
       "<p>1543 rows × 0 columns</p>\n",
       "</div>"
      ],
      "text/plain": [
       "Empty DataFrame\n",
       "Columns: []\n",
       "Index: [1352, 141, 2, 1190, 1803, 1116, 339, 584, 607, 963, 1754, 1220, 271, 184, 1836, 244, 495, 552, 759, 1486, 843, 631, 1853, 1245, 679, 1700, 1403, 250, 413, 1460, 1696, 1054, 599, 381, 798, 985, 1063, 710, 1305, 408, 1581, 994, 864, 1200, 519, 792, 182, 1196, 170, 292, 518, 543, 300, 1809, 1561, 1596, 787, 1861, 1005, 1105, 598, 834, 422, 371, 936, 611, 1431, 1490, 1623, 175, 810, 722, 619, 1040, 334, 1293, 1315, 1124, 1448, 1886, 1201, 1840, 198, 15, 265, 1593, 1399, 917, 532, 841, 593, 1169, 561, 909, 465, 588, 199, 1540, 1639, 1163, ...]\n",
       "\n",
       "[1543 rows x 0 columns]"
      ]
     },
     "execution_count": 43,
     "metadata": {},
     "output_type": "execute_result"
    }
   ],
   "source": [
    "df_train_cat"
   ]
  },
  {
   "cell_type": "code",
   "execution_count": 44,
   "id": "f7e32ecf",
   "metadata": {},
   "outputs": [
    {
     "name": "stdout",
     "output_type": "stream",
     "text": [
      "1352   -2.6848\n",
      "141     0.3344\n",
      "2      -0.9472\n",
      "1190   -0.7552\n",
      "1803    1.1163\n",
      "         ...  \n",
      "1130   -1.3408\n",
      "1294    0.2960\n",
      "860    -1.2544\n",
      "1459   -2.6992\n",
      "1126   -0.9040\n",
      "Name: dissolved oxygen, Length: 1543, dtype: float64\n"
     ]
    },
    {
     "data": {
      "image/png": "[encoded data removed]",
      "text/plain": [
       "<Figure size 640x480 with 1 Axes>"
      ]
     },
     "metadata": {},
     "output_type": "display_data"
    },
    {
     "name": "stdout",
     "output_type": "stream",
     "text": [
      "1352    6.9140\n",
      "141     7.5692\n",
      "2       7.5881\n",
      "1190    6.8762\n",
      "1803   -0.2700\n",
      "         ...  \n",
      "1130    6.9896\n",
      "1294    6.8825\n",
      "860     6.8069\n",
      "1459    6.7754\n",
      "1126    6.8951\n",
      "Name: ph, Length: 1543, dtype: float64\n"
     ]
    },
    {
     "data": {
      "image/png": "[encoded data removed]",
      "text/plain": [
       "<Figure size 640x480 with 1 Axes>"
      ]
     },
     "metadata": {},
     "output_type": "display_data"
    },
    {
     "name": "stdout",
     "output_type": "stream",
     "text": [
      "1352    30.6774\n",
      "141     29.8578\n",
      "2       28.7926\n",
      "1190    30.2540\n",
      "1803    32.4355\n",
      "         ...   \n",
      "1130    29.6580\n",
      "1294    31.8933\n",
      "860     30.6729\n",
      "1459    29.7998\n",
      "1126    30.2699\n",
      "Name: water temp, Length: 1543, dtype: float64\n"
     ]
    },
    {
     "data": {
      "image/png": "[encoded data removed]",
      "text/plain": [
       "<Figure size 640x480 with 1 Axes>"
      ]
     },
     "metadata": {},
     "output_type": "display_data"
    },
    {
     "name": "stdout",
     "output_type": "stream",
     "text": [
      "1352    4.6948\n",
      "141     3.4848\n",
      "2       2.6257\n",
      "1190    2.9645\n",
      "1803    1.6214\n",
      "         ...  \n",
      "1130    2.9282\n",
      "1294    7.3689\n",
      "860     4.5980\n",
      "1459    1.6335\n",
      "1126    5.6628\n",
      "Name: chlorophyll-a, Length: 1543, dtype: float64\n"
     ]
    },
    {
     "data": {
      "image/png": "[encoded data removed]",
      "text/plain": [
       "<Figure size 640x480 with 1 Axes>"
      ]
     },
     "metadata": {},
     "output_type": "display_data"
    }
   ],
   "source": [
    "#distributions for all numeric variables \n",
    "for i in df_train_num.columns:\n",
    "    print(df_train_num[i])\n",
    "    plt.hist(df_train_num[i], bins=100)\n",
    "    plt.title(i)\n",
    "    plt.show()"
   ]
  },
  {
   "cell_type": "code",
   "execution_count": 45,
   "id": "b8195588",
   "metadata": {},
   "outputs": [
    {
     "name": "stdout",
     "output_type": "stream",
     "text": [
      "                  dissolved oxygen        ph  water temp  chlorophyll-a\n",
      "dissolved oxygen          1.000000 -0.529603    0.249336      -0.032584\n",
      "ph                       -0.529603  1.000000   -0.384802       0.147576\n",
      "water temp                0.249336 -0.384802    1.000000       0.336780\n",
      "chlorophyll-a            -0.032584  0.147576    0.336780       1.000000\n"
     ]
    },
    {
     "data": {
      "text/plain": [
       "<Axes: >"
      ]
     },
     "execution_count": 45,
     "metadata": {},
     "output_type": "execute_result"
    },
    {
     "data": {
      "image/png": "[encoded data removed]",
      "text/plain": [
       "<Figure size 640x480 with 2 Axes>"
      ]
     },
     "metadata": {},
     "output_type": "display_data"
    }
   ],
   "source": [
    "print(df_train_num.corr())\n",
    "sns.heatmap(df_train_num.corr())"
   ]
  },
  {
   "cell_type": "code",
   "execution_count": 46,
   "id": "498a39d7",
   "metadata": {},
   "outputs": [
    {
     "name": "stdout",
     "output_type": "stream",
     "text": [
      "(1543, 3)\n",
      "(1543, 1)\n"
     ]
    }
   ],
   "source": [
    "df_train_features = df_train.drop(columns=['chlorophyll-a'])\n",
    "df_train_target = df_train.drop(columns=['ph', 'dissolved oxygen', 'water temp'])\n",
    "\n",
    "print(df_train_features.shape)\n",
    "print(df_train_target.shape)"
   ]
  },
  {
   "cell_type": "code",
   "execution_count": 47,
   "id": "b817460c",
   "metadata": {},
   "outputs": [
    {
     "data": {
      "image/png": "[encoded data removed]",
      "text/plain": [
       "<Figure size 1800x500 with 3 Axes>"
      ]
     },
     "metadata": {},
     "output_type": "display_data"
    }
   ],
   "source": [
    "# First, let's combine the features and target into one DataFrame for easier plotting\n",
    "# This assumes the target column is 'chlorophyll-a' based on your code\n",
    "features = df_train_features.columns\n",
    "target = 'chlorophyll-a'  # Adjust if your target column has a different name\n",
    "\n",
    "# Create figure with subplots\n",
    "fig, axes = plt.subplots(1, 3, figsize=(18, 5))\n",
    "fig.suptitle('Feature Relationships with Chlorophyll-a', fontsize=16)\n",
    "\n",
    "# Plot each feature against the target\n",
    "for i, feature in enumerate(features):\n",
    "    sns.scatterplot(\n",
    "        x=df_train_features[feature], \n",
    "        y=df_train_target.iloc[:, 0],  # First column of target DataFrame\n",
    "        ax=axes[i]\n",
    "    )\n",
    "    axes[i].set_xlabel(feature)\n",
    "    axes[i].set_ylabel('Chlorophyll-a')\n",
    "    \n",
    "    # Add a regression line to see the trend\n",
    "    sns.regplot(\n",
    "        x=df_train_features[feature], \n",
    "        y=df_train_target.iloc[:, 0],\n",
    "        scatter=False,\n",
    "        ax=axes[i],\n",
    "        color='red'\n",
    "    )\n",
    "    \n",
    "    # Calculate correlation coefficient\n",
    "    corr = df_train_features[feature].corr(df_train_target.iloc[:, 0])\n",
    "    axes[i].set_title(f'{feature} vs Chlorophyll-a\\nCorrelation: {corr:.3f}')\n",
    "\n",
    "plt.tight_layout()\n",
    "plt.show()"
   ]
  },
  {
   "cell_type": "code",
   "execution_count": null,
   "id": "7700ce30",
   "metadata": {},
   "outputs": [],
   "source": []
  }
 ],
 "metadata": {
  "kernelspec": {
   "display_name": "base",
   "language": "python",
   "name": "python3"
  },
  "language_info": {
   "codemirror_mode": {
    "name": "ipython",
    "version": 3
   },
   "file_extension": ".py",
   "mimetype": "text/x-python",
   "name": "python",
   "nbconvert_exporter": "python",
   "pygments_lexer": "ipython3",
   "version": "3.12.7"
  }
 },
 "nbformat": 4,
 "nbformat_minor": 5
}
