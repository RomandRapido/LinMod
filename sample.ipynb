{
 "cells": [
  {
   "cell_type": "code",
   "execution_count": 1,
   "metadata": {},
   "outputs": [
    {
     "data": {
      "text/html": [
       "<div>\n",
       "<style scoped>\n",
       "    .dataframe tbody tr th:only-of-type {\n",
       "        vertical-align: middle;\n",
       "    }\n",
       "\n",
       "    .dataframe tbody tr th {\n",
       "        vertical-align: top;\n",
       "    }\n",
       "\n",
       "    .dataframe thead th {\n",
       "        text-align: right;\n",
       "    }\n",
       "</style>\n",
       "<table border=\"1\" class=\"dataframe\">\n",
       "  <thead>\n",
       "    <tr style=\"text-align: right;\">\n",
       "      <th></th>\n",
       "      <th>State</th>\n",
       "      <th>Lat</th>\n",
       "      <th>Mort</th>\n",
       "      <th>Ocean</th>\n",
       "      <th>Long</th>\n",
       "    </tr>\n",
       "  </thead>\n",
       "  <tbody>\n",
       "    <tr>\n",
       "      <th>0</th>\n",
       "      <td>Alabama</td>\n",
       "      <td>33.0</td>\n",
       "      <td>219</td>\n",
       "      <td>1</td>\n",
       "      <td>87.0</td>\n",
       "    </tr>\n",
       "    <tr>\n",
       "      <th>1</th>\n",
       "      <td>Arizona</td>\n",
       "      <td>34.5</td>\n",
       "      <td>160</td>\n",
       "      <td>0</td>\n",
       "      <td>112.0</td>\n",
       "    </tr>\n",
       "    <tr>\n",
       "      <th>2</th>\n",
       "      <td>Arkansas</td>\n",
       "      <td>35.0</td>\n",
       "      <td>170</td>\n",
       "      <td>0</td>\n",
       "      <td>92.5</td>\n",
       "    </tr>\n",
       "    <tr>\n",
       "      <th>3</th>\n",
       "      <td>California</td>\n",
       "      <td>37.5</td>\n",
       "      <td>182</td>\n",
       "      <td>1</td>\n",
       "      <td>119.5</td>\n",
       "    </tr>\n",
       "    <tr>\n",
       "      <th>4</th>\n",
       "      <td>Colorado</td>\n",
       "      <td>39.0</td>\n",
       "      <td>149</td>\n",
       "      <td>0</td>\n",
       "      <td>105.5</td>\n",
       "    </tr>\n",
       "  </tbody>\n",
       "</table>\n",
       "</div>"
      ],
      "text/plain": [
       "        State   Lat  Mort  Ocean   Long\n",
       "0     Alabama  33.0   219      1   87.0\n",
       "1     Arizona  34.5   160      0  112.0\n",
       "2    Arkansas  35.0   170      0   92.5\n",
       "3  California  37.5   182      1  119.5\n",
       "4    Colorado  39.0   149      0  105.5"
      ]
     },
     "execution_count": 1,
     "metadata": {},
     "output_type": "execute_result"
    }
   ],
   "source": [
    "import pandas as pd\n",
    "\n",
    "df = pd.read_fwf(\"index.txt\")\n",
    "df.head()"
   ]
  },
  {
   "cell_type": "code",
   "execution_count": null,
   "metadata": {},
   "outputs": [],
   "source": []
  },
  {
   "cell_type": "code",
   "execution_count": null,
   "metadata": {},
   "outputs": [
    {
     "data": {
      "text/plain": [
       "49"
      ]
     },
     "execution_count": 76,
     "metadata": {},
     "output_type": "execute_result"
    }
   ],
   "source": []
  },
  {
   "cell_type": "code",
   "execution_count": 86,
   "metadata": {},
   "outputs": [
    {
     "name": "stdout",
     "output_type": "stream",
     "text": [
      "[[ 2.12601616e+01 -1.27085502e+02 -5.08715986e-01  6.78440051e+00]\n",
      " [-1.27085502e+02  1.11744303e+03  7.95195578e+00 -7.26495748e+01]\n",
      " [-5.08715986e-01  7.95195578e+00  2.52551020e-01 -2.85850340e+00]\n",
      " [ 6.78440051e+00 -7.26495748e+01 -2.85850340e+00  2.21012372e+02]]\n"
     ]
    }
   ],
   "source": [
    "import numpy as np\n",
    "nums = df.select_dtypes(\"number\")\n",
    "means = nums.agg(\"mean\").values\n",
    "matrix = nums.values.T\n",
    "\n",
    "n = 4\n",
    "\n",
    "cov = np.zeros((n,n))\n",
    "\n",
    "for r in range(n):\n",
    "    for c in range(n):\n",
    "        cov[r][c] = (matrix[r]*matrix[c]).mean() - means[r]*means[c]\n",
    "\n",
    "# remove bias\n",
    "shap = nums.shape[0]\n",
    "multi = shap/(shap-1)\n",
    "cov_fin = cov*multi\n",
    "print(cov_fin)"
   ]
  },
  {
   "cell_type": "code",
   "execution_count": 91,
   "metadata": {},
   "outputs": [
    {
     "name": "stdout",
     "output_type": "stream",
     "text": [
      "[[ 1.         -0.82451779 -0.21954196  0.09897372]\n",
      " [-0.82451779  1.          0.4733547  -0.14618812]\n",
      " [-0.21954196  0.4733547   1.         -0.38260959]\n",
      " [ 0.09897372 -0.14618812 -0.38260959  1.        ]]\n"
     ]
    }
   ],
   "source": [
    "stds = nums.std().values\n",
    "\n",
    "corr = np.zeros((n,n))\n",
    "\n",
    "for r in range(n):\n",
    "    for c in range(n):\n",
    "        corr[r][c] = cov_fin[r][c] / (stds[r]*stds[c])\n",
    "\n",
    "print(corr)"
   ]
  },
  {
   "cell_type": "code",
   "execution_count": 122,
   "metadata": {},
   "outputs": [
    {
     "name": "stdout",
     "output_type": "stream",
     "text": [
      "[[ 1.         -0.82451779 -0.21954196  0.09897372]\n",
      " [-0.82451779  1.          0.4733547  -0.14618812]\n",
      " [-0.21954196  0.4733547   1.         -0.38260959]\n",
      " [ 0.09897372 -0.14618812 -0.38260959  1.        ]]\n"
     ]
    }
   ],
   "source": [
    "diagonal = np.sqrt(1/np.diag(cov))\n",
    "digonal_in = np.zeros((n, n))\n",
    "np.fill_diagonal(digonal_in, diagonal)\n",
    "print(digonal_in@cov@digonal_in)"
   ]
  }
 ],
 "metadata": {
  "kernelspec": {
   "display_name": "venv",
   "language": "python",
   "name": "venv"
  },
  "language_info": {
   "codemirror_mode": {
    "name": "ipython",
    "version": 3
   },
   "file_extension": ".py",
   "mimetype": "text/x-python",
   "name": "python",
   "nbconvert_exporter": "python",
   "pygments_lexer": "ipython3",
   "version": "3.12.3"
  }
 },
 "nbformat": 4,
 "nbformat_minor": 2
}
