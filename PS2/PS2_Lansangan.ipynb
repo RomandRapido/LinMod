{
 "cells": [
  {
   "cell_type": "markdown",
   "id": "d47fbdf9-1d96-4e58-a3fb-42b1478cddff",
   "metadata": {},
   "source": [
    "<div style=\"text-align: center;\"> <h3>Linear Model</h3>\n",
    "<h5>Problem Set 2</h5>\n",
    "<h5>April 22, 2025</h5>    \n",
    "<h5><u>By Romand Lansangan</u></h5>\n",
    "    </div>\n",
    "    \n",
    "---"
   ]
  },
  {
   "cell_type": "markdown",
   "id": "232f4504",
   "metadata": {},
   "source": [
    "## Internet Use and GDP\n",
    "\n",
    "The U.S. Central Intelligence Agency (2010) contains information on topics such as geography, people, the economy, communications, and transportation for most countries in the world. For example, the INTERNET data file contains data from 2010 relating to gross domestic product (GDP) per capita in thousands of dollars (Gdp) and the percentage of the population that are Internet users (Int) for 212 countries. Here, GDP is based on purchasing power parities to account for between-country differences in price levels. This problem investigates whether there is a linear association between these two variables. In particular, **how effective is it to use Gdp to predict Int using simple linear regression?**"
   ]
  },
  {
   "cell_type": "code",
   "execution_count": 1,
   "id": "dae18d02",
   "metadata": {
    "vscode": {
     "languageId": "r"
    }
   },
   "outputs": [
    {
     "name": "stderr",
     "output_type": "stream",
     "text": [
      "-- \u001b[1mAttaching core tidyverse packages\u001b[22m ------------------------ tidyverse 2.0.0 --\n",
      "\u001b[32mv\u001b[39m \u001b[34mdplyr    \u001b[39m 1.1.4     \u001b[32mv\u001b[39m \u001b[34mreadr    \u001b[39m 2.1.5\n",
      "\u001b[32mv\u001b[39m \u001b[34mforcats  \u001b[39m 1.0.0     \u001b[32mv\u001b[39m \u001b[34mstringr  \u001b[39m 1.5.0\n",
      "\u001b[32mv\u001b[39m \u001b[34mggplot2  \u001b[39m 3.4.2     \u001b[32mv\u001b[39m \u001b[34mtibble   \u001b[39m 3.2.1\n",
      "\u001b[32mv\u001b[39m \u001b[34mlubridate\u001b[39m 1.9.3     \u001b[32mv\u001b[39m \u001b[34mtidyr    \u001b[39m 1.3.1\n",
      "\u001b[32mv\u001b[39m \u001b[34mpurrr    \u001b[39m 1.0.2     \n",
      "-- \u001b[1mConflicts\u001b[22m ------------------------------------------ tidyverse_conflicts() --\n",
      "\u001b[31mx\u001b[39m \u001b[34mdplyr\u001b[39m::\u001b[32mfilter()\u001b[39m masks \u001b[34mstats\u001b[39m::filter()\n",
      "\u001b[31mx\u001b[39m \u001b[34mdplyr\u001b[39m::\u001b[32mlag()\u001b[39m    masks \u001b[34mstats\u001b[39m::lag()\n",
      "\u001b[36mi\u001b[39m Use the conflicted package (\u001b[3m\u001b[34m<http://conflicted.r-lib.org/>\u001b[39m\u001b[23m) to force all conflicts to become errors\n"
     ]
    }
   ],
   "source": [
    "library(tidyverse)\n",
    "library(ggplot2)\n",
    "\n",
    "options(repr.plot.width=10, repr.plot.height=5)\n"
   ]
  },
  {
   "cell_type": "code",
   "execution_count": 2,
   "id": "2103f5ba",
   "metadata": {
    "scrolled": true,
    "vscode": {
     "languageId": "r"
    }
   },
   "outputs": [
    {
     "name": "stderr",
     "output_type": "stream",
     "text": [
      "\u001b[1mRows: \u001b[22m\u001b[34m212\u001b[39m \u001b[1mColumns: \u001b[22m\u001b[34m3\u001b[39m\n",
      "\u001b[36m--\u001b[39m \u001b[1mColumn specification\u001b[22m \u001b[36m--------------------------------------------------------\u001b[39m\n",
      "\u001b[1mDelimiter:\u001b[22m \",\"\n",
      "\u001b[31mchr\u001b[39m (1): Country\n",
      "\u001b[32mdbl\u001b[39m (2): Gdp, Int\n",
      "\n",
      "\u001b[36mi\u001b[39m Use `spec()` to retrieve the full column specification for this data.\n",
      "\u001b[36mi\u001b[39m Specify the column types or set `show_col_types = FALSE` to quiet this message.\n"
     ]
    },
    {
     "data": {
      "text/html": [
       "<table class=\"dataframe\">\n",
       "<caption>A tibble: 6 × 3</caption>\n",
       "<thead>\n",
       "\t<tr><th scope=col>Country</th><th scope=col>Gdp</th><th scope=col>Int</th></tr>\n",
       "\t<tr><th scope=col>&lt;chr&gt;</th><th scope=col>&lt;dbl&gt;</th><th scope=col>&lt;dbl&gt;</th></tr>\n",
       "</thead>\n",
       "<tbody>\n",
       "\t<tr><td>Afghanistan</td><td> 1.0</td><td> 3.4</td></tr>\n",
       "\t<tr><td>Albania    </td><td> 7.4</td><td>43.4</td></tr>\n",
       "\t<tr><td>Algeria    </td><td> 7.4</td><td>13.4</td></tr>\n",
       "\t<tr><td>Andorra    </td><td>46.7</td><td>79.1</td></tr>\n",
       "\t<tr><td>Angola     </td><td> 8.7</td><td> 4.5</td></tr>\n",
       "\t<tr><td>Anguilla   </td><td>12.2</td><td>24.5</td></tr>\n",
       "</tbody>\n",
       "</table>\n"
      ],
      "text/latex": [
       "A tibble: 6 × 3\n",
       "\\begin{tabular}{lll}\n",
       " Country & Gdp & Int\\\\\n",
       " <chr> & <dbl> & <dbl>\\\\\n",
       "\\hline\n",
       "\t Afghanistan &  1.0 &  3.4\\\\\n",
       "\t Albania     &  7.4 & 43.4\\\\\n",
       "\t Algeria     &  7.4 & 13.4\\\\\n",
       "\t Andorra     & 46.7 & 79.1\\\\\n",
       "\t Angola      &  8.7 &  4.5\\\\\n",
       "\t Anguilla    & 12.2 & 24.5\\\\\n",
       "\\end{tabular}\n"
      ],
      "text/markdown": [
       "\n",
       "A tibble: 6 × 3\n",
       "\n",
       "| Country &lt;chr&gt; | Gdp &lt;dbl&gt; | Int &lt;dbl&gt; |\n",
       "|---|---|---|\n",
       "| Afghanistan |  1.0 |  3.4 |\n",
       "| Albania     |  7.4 | 43.4 |\n",
       "| Algeria     |  7.4 | 13.4 |\n",
       "| Andorra     | 46.7 | 79.1 |\n",
       "| Angola      |  8.7 |  4.5 |\n",
       "| Anguilla    | 12.2 | 24.5 |\n",
       "\n"
      ],
      "text/plain": [
       "  Country     Gdp  Int \n",
       "1 Afghanistan  1.0  3.4\n",
       "2 Albania      7.4 43.4\n",
       "3 Algeria      7.4 13.4\n",
       "4 Andorra     46.7 79.1\n",
       "5 Angola       8.7  4.5\n",
       "6 Anguilla    12.2 24.5"
      ]
     },
     "metadata": {},
     "output_type": "display_data"
    }
   ],
   "source": [
    "df <- read_csv(\"internet.csv\")\n",
    "head(df)"
   ]
  },
  {
   "cell_type": "code",
   "execution_count": 3,
   "id": "18b03211-dece-4226-9d76-c247c272643c",
   "metadata": {
    "vscode": {
     "languageId": "r"
    }
   },
   "outputs": [
    {
     "data": {
      "text/html": [
       "212"
      ],
      "text/latex": [
       "212"
      ],
      "text/markdown": [
       "212"
      ],
      "text/plain": [
       "[1] 212"
      ]
     },
     "metadata": {},
     "output_type": "display_data"
    }
   ],
   "source": [
    "nrow(df)"
   ]
  },
  {
   "cell_type": "code",
   "execution_count": 4,
   "id": "a1148fad",
   "metadata": {
    "vscode": {
     "languageId": "r"
    }
   },
   "outputs": [
    {
     "data": {
      "text/plain": [
       "   Country               Gdp              Int        \n",
       " Length:212         Min.   : 0.300   Min.   : 0.200  \n",
       " Class :character   1st Qu.: 2.575   1st Qu.: 7.075  \n",
       " Mode  :character   Median : 9.150   Median :27.350  \n",
       "                    Mean   :14.842   Mean   :32.562  \n",
       "                    3rd Qu.:22.125   3rd Qu.:53.750  \n",
       "                    Max.   :81.800   Max.   :97.000  "
      ]
     },
     "metadata": {},
     "output_type": "display_data"
    }
   ],
   "source": [
    "summary(df)"
   ]
  },
  {
   "cell_type": "markdown",
   "id": "36fce772",
   "metadata": {},
   "source": [
    "#### (a) Find the least squares line for the data, that is, use statistical software to find the intercept and slope of the least squares line, and write out the equation of that line."
   ]
  },
  {
   "cell_type": "code",
   "execution_count": 5,
   "id": "5442833a",
   "metadata": {
    "vscode": {
     "languageId": "r"
    }
   },
   "outputs": [
    {
     "data": {
      "text/plain": [
       "\n",
       "Call:\n",
       "lm(formula = Int ~ Gdp, data = df)\n",
       "\n",
       "Residuals:\n",
       "    Min      1Q  Median      3Q     Max \n",
       "-61.742 -11.914  -3.276   9.417  63.644 \n",
       "\n",
       "Coefficients:\n",
       "            Estimate Std. Error t value Pr(>|t|)    \n",
       "(Intercept) 12.36278    1.71827   7.195 1.09e-11 ***\n",
       "Gdp          1.36093    0.07975  17.065  < 2e-16 ***\n",
       "---\n",
       "Signif. codes:  0 '***' 0.001 '**' 0.01 '*' 0.05 '.' 0.1 ' ' 1\n",
       "\n",
       "Residual standard error: 18.14 on 210 degrees of freedom\n",
       "Multiple R-squared:  0.581,\tAdjusted R-squared:  0.579 \n",
       "F-statistic: 291.2 on 1 and 210 DF,  p-value: < 2.2e-16\n"
      ]
     },
     "metadata": {},
     "output_type": "display_data"
    },
    {
     "data": {
      "image/png": "[encoded data removed]",
      "text/plain": [
       "Plot with title \"\""
      ]
     },
     "metadata": {
      "image/png": {
       "height": 300,
       "width": 600
      }
     },
     "output_type": "display_data"
    },
    {
     "data": {
      "image/png": "[encoded data removed]",
      "text/plain": [
       "Plot with title \"\""
      ]
     },
     "metadata": {
      "image/png": {
       "height": 300,
       "width": 600
      }
     },
     "output_type": "display_data"
    },
    {
     "data": {
      "image/png": "[encoded data removed]",
      "text/plain": [
       "Plot with title \"\""
      ]
     },
     "metadata": {
      "image/png": {
       "height": 300,
       "width": 600
      }
     },
     "output_type": "display_data"
    },
    {
     "data": {
      "image/png": "[encoded data removed]",
      "text/plain": [
       "Plot with title \"\""
      ]
     },
     "metadata": {
      "image/png": {
       "height": 300,
       "width": 600
      }
     },
     "output_type": "display_data"
    }
   ],
   "source": [
    "first <- lm(Int ~ Gdp, data = df)\n",
    "summary(first)\n",
    "plot(first)"
   ]
  },
  {
   "cell_type": "markdown",
   "id": "da834700",
   "metadata": {},
   "source": [
    "The `Residuals vs Fitted` plot showed a randomly distributed residuals around the fitted line as there's no discernable pattern of either decreasing or increasing in residuals as the fitted values increases. This indicates that the errors terms are independent. \n",
    "\n",
    "The `Normal Q-Q` plot on the other hand estimates that the residual distribution does not stray too far away from normal distribution. \n",
    "\n",
    "The `Scale-Location` shows a relatively horizantal line accross all range of fitted values indicating an approximately equal in variance.\n",
    "\n",
    "Therefore, we could get `Int` as a linear function of `Gdp` plus some error."
   ]
  },
  {
   "cell_type": "code",
   "execution_count": 6,
   "id": "cac8c5a9",
   "metadata": {
    "vscode": {
     "languageId": "r"
    }
   },
   "outputs": [
    {
     "name": "stdout",
     "output_type": "stream",
     "text": [
      "[1] \"Slope: 1.36092659265485\"\n",
      "[1] \"Intercept: 12.3627753941145\"\n"
     ]
    }
   ],
   "source": [
    "coefs <- coef(first)\n",
    "\n",
    "slope = coefs[2]\n",
    "intercept = coefs[1]\n",
    "\n",
    "print(paste(\"Slope:\", slope))\n",
    "print(paste(\"Intercept:\", intercept))"
   ]
  },
  {
   "cell_type": "markdown",
   "id": "3865052c",
   "metadata": {},
   "source": [
    "The regression line can then be written as:\n",
    "\n",
    "$$\n",
    "E(INT) = 1.36092659265485\\cdot GDP +  12.3627753941145\n",
    "$$"
   ]
  },
  {
   "cell_type": "markdown",
   "id": "42f24789",
   "metadata": {},
   "source": [
    "#### (b) Interpret the estimates of the slope and the intercept in the context of the problem."
   ]
  },
  {
   "cell_type": "markdown",
   "id": "43c581c6",
   "metadata": {},
   "source": [
    "The slope of $1.36092659265485$ indicates that the `Int` (or the percentage of population in a country that are internet users) increases by $1.36092659265485$ unit for every unit increase in `GDP` (or the gross domestic product per capita in thousands of dollars). \n",
    "\n",
    "The intercept of $12.3627753941145$ indicates that if `GDP=0`,. `INT` has a default value of $12.3627753941145$ which doesn't make sense but the intercept of the linear model is simply a mathematical extrapolation beyond the observable data range, at least in this case. This interpretation is more of theorethical than practical due to the fact that the range of the independent variable doesn't include 0."
   ]
  },
  {
   "cell_type": "markdown",
   "id": "091f63c1",
   "metadata": {},
   "source": [
    "#### (c) Predict the percentage of Internet users if GDP per capita is $20,000."
   ]
  },
  {
   "cell_type": "code",
   "execution_count": 7,
   "id": "68ae50a9",
   "metadata": {
    "vscode": {
     "languageId": "r"
    }
   },
   "outputs": [
    {
     "name": "stdout",
     "output_type": "stream",
     "text": [
      "(Intercept) \n",
      "   39.58131 \n"
     ]
    }
   ],
   "source": [
    "gdp = 20000 \n",
    "\n",
    "manual_prediction <- intercept + slope * (gdp/1000) # Gdp is in thousands\n",
    "print(manual_prediction)"
   ]
  },
  {
   "cell_type": "markdown",
   "id": "7a2f631c",
   "metadata": {},
   "source": [
    "#### (d) Draw a scatterplot with Int on the vertical axis and Gdp on the horizontal axis, and add the least squares line to the plot."
   ]
  },
  {
   "cell_type": "code",
   "execution_count": 8,
   "id": "19b45f8d",
   "metadata": {
    "vscode": {
     "languageId": "r"
    }
   },
   "outputs": [
    {
     "data": {
      "image/png": "[encoded data removed]",
      "text/plain": [
       "plot without title"
      ]
     },
     "metadata": {
      "image/png": {
       "height": 300,
       "width": 600
      }
     },
     "output_type": "display_data"
    }
   ],
   "source": [
    "ggplot(df) +\n",
    "  geom_point(aes(x = Gdp, y = Int), col = \"blue\") +\n",
    "  geom_smooth(aes(x = Gdp, y = Int, color = \"Regression Line (LSM)\"), \n",
    "              method = \"lm\", se = FALSE, formula = y ~ x, linewidth = 1) +\n",
    "  ggtitle(\"GDP vs Internet\") + \n",
    "  ylab(\"Internet\") + \n",
    "  xlab(\"GDP\") +\n",
    "  theme(plot.title = element_text(hjust = 0.5)) "
   ]
  },
  {
   "cell_type": "markdown",
   "id": "4e06492a",
   "metadata": {},
   "source": [
    "## Movie Data and Box Office Receipts\n",
    "\n",
    "The MOVIES data file contains data on 25 movies from “The Internet Movie Database” (www.imdb.com). Based on this dataset, we wish to investigate whether all-time US box office receipts (Box, in millions of US dollars unadjusted for inflation) are associated with any of the following variables:\n",
    "* Rate = Internet Movie Database user rating (out of 10)\n",
    "* User = Internet Movie Database users rating the movie (in thousands)\n",
    "* Meta = “Metascore” based on 35 critic reviews (out of 100)\n",
    "* Len = Runtime (in minutes)\n",
    "* Win = Award wins\n",
    "* Nom = Award nominations\n",
    "\n",
    "Theatrical box office receipts (movie ticket sales) may include theatrical re-release receipts, but exclude video rentals, television rights, and other revenues."
   ]
  },
  {
   "cell_type": "code",
   "execution_count": 9,
   "id": "0cbf45ac",
   "metadata": {
    "vscode": {
     "languageId": "r"
    }
   },
   "outputs": [
    {
     "name": "stderr",
     "output_type": "stream",
     "text": [
      "\u001b[1mRows: \u001b[22m\u001b[34m25\u001b[39m \u001b[1mColumns: \u001b[22m\u001b[34m8\u001b[39m\n",
      "\u001b[36m--\u001b[39m \u001b[1mColumn specification\u001b[22m \u001b[36m--------------------------------------------------------\u001b[39m\n",
      "\u001b[1mDelimiter:\u001b[22m \",\"\n",
      "\u001b[31mchr\u001b[39m (1): Movie\n",
      "\u001b[32mdbl\u001b[39m (7): Box, Rate, User, Meta, Len, Win, Nom\n",
      "\n",
      "\u001b[36mi\u001b[39m Use `spec()` to retrieve the full column specification for this data.\n",
      "\u001b[36mi\u001b[39m Specify the column types or set `show_col_types = FALSE` to quiet this message.\n"
     ]
    },
    {
     "data": {
      "text/html": [
       "<table class=\"dataframe\">\n",
       "<caption>A tibble: 6 × 8</caption>\n",
       "<thead>\n",
       "\t<tr><th scope=col>Movie</th><th scope=col>Box</th><th scope=col>Rate</th><th scope=col>User</th><th scope=col>Meta</th><th scope=col>Len</th><th scope=col>Win</th><th scope=col>Nom</th></tr>\n",
       "\t<tr><th scope=col>&lt;chr&gt;</th><th scope=col>&lt;dbl&gt;</th><th scope=col>&lt;dbl&gt;</th><th scope=col>&lt;dbl&gt;</th><th scope=col>&lt;dbl&gt;</th><th scope=col>&lt;dbl&gt;</th><th scope=col>&lt;dbl&gt;</th><th scope=col>&lt;dbl&gt;</th></tr>\n",
       "</thead>\n",
       "<tbody>\n",
       "\t<tr><td>Star Wars: Episode IV - A New Hope (1977)                    </td><td>460.9357</td><td>8.8</td><td>423.838</td><td>91</td><td>121</td><td>36</td><td>22</td></tr>\n",
       "\t<tr><td>Toy Story 3 (2010)                                           </td><td>414.9845</td><td>8.5</td><td>201.748</td><td>92</td><td>103</td><td>35</td><td>41</td></tr>\n",
       "\t<tr><td>Spider-Man 2 (2004)                                          </td><td>373.3779</td><td>7.5</td><td>191.179</td><td>83</td><td>127</td><td>15</td><td>39</td></tr>\n",
       "\t<tr><td>Finding Nemo (2003)                                          </td><td>339.7144</td><td>8.1</td><td>263.202</td><td>89</td><td>100</td><td>35</td><td>36</td></tr>\n",
       "\t<tr><td>The Lion King (1994)                                         </td><td>328.4230</td><td>8.3</td><td>233.977</td><td>83</td><td> 89</td><td>27</td><td>22</td></tr>\n",
       "\t<tr><td>Pirates of the Caribbean: The Curse of the Black Pearl (2003)</td><td>305.3887</td><td>8.0</td><td>355.801</td><td>63</td><td>143</td><td>28</td><td>74</td></tr>\n",
       "</tbody>\n",
       "</table>\n"
      ],
      "text/latex": [
       "A tibble: 6 × 8\n",
       "\\begin{tabular}{llllllll}\n",
       " Movie & Box & Rate & User & Meta & Len & Win & Nom\\\\\n",
       " <chr> & <dbl> & <dbl> & <dbl> & <dbl> & <dbl> & <dbl> & <dbl>\\\\\n",
       "\\hline\n",
       "\t Star Wars: Episode IV - A New Hope (1977)                     & 460.9357 & 8.8 & 423.838 & 91 & 121 & 36 & 22\\\\\n",
       "\t Toy Story 3 (2010)                                            & 414.9845 & 8.5 & 201.748 & 92 & 103 & 35 & 41\\\\\n",
       "\t Spider-Man 2 (2004)                                           & 373.3779 & 7.5 & 191.179 & 83 & 127 & 15 & 39\\\\\n",
       "\t Finding Nemo (2003)                                           & 339.7144 & 8.1 & 263.202 & 89 & 100 & 35 & 36\\\\\n",
       "\t The Lion King (1994)                                          & 328.4230 & 8.3 & 233.977 & 83 &  89 & 27 & 22\\\\\n",
       "\t Pirates of the Caribbean: The Curse of the Black Pearl (2003) & 305.3887 & 8.0 & 355.801 & 63 & 143 & 28 & 74\\\\\n",
       "\\end{tabular}\n"
      ],
      "text/markdown": [
       "\n",
       "A tibble: 6 × 8\n",
       "\n",
       "| Movie &lt;chr&gt; | Box &lt;dbl&gt; | Rate &lt;dbl&gt; | User &lt;dbl&gt; | Meta &lt;dbl&gt; | Len &lt;dbl&gt; | Win &lt;dbl&gt; | Nom &lt;dbl&gt; |\n",
       "|---|---|---|---|---|---|---|---|\n",
       "| Star Wars: Episode IV - A New Hope (1977)                     | 460.9357 | 8.8 | 423.838 | 91 | 121 | 36 | 22 |\n",
       "| Toy Story 3 (2010)                                            | 414.9845 | 8.5 | 201.748 | 92 | 103 | 35 | 41 |\n",
       "| Spider-Man 2 (2004)                                           | 373.3779 | 7.5 | 191.179 | 83 | 127 | 15 | 39 |\n",
       "| Finding Nemo (2003)                                           | 339.7144 | 8.1 | 263.202 | 89 | 100 | 35 | 36 |\n",
       "| The Lion King (1994)                                          | 328.4230 | 8.3 | 233.977 | 83 |  89 | 27 | 22 |\n",
       "| Pirates of the Caribbean: The Curse of the Black Pearl (2003) | 305.3887 | 8.0 | 355.801 | 63 | 143 | 28 | 74 |\n",
       "\n"
      ],
      "text/plain": [
       "  Movie                                                         Box      Rate\n",
       "1 Star Wars: Episode IV - A New Hope (1977)                     460.9357 8.8 \n",
       "2 Toy Story 3 (2010)                                            414.9845 8.5 \n",
       "3 Spider-Man 2 (2004)                                           373.3779 7.5 \n",
       "4 Finding Nemo (2003)                                           339.7144 8.1 \n",
       "5 The Lion King (1994)                                          328.4230 8.3 \n",
       "6 Pirates of the Caribbean: The Curse of the Black Pearl (2003) 305.3887 8.0 \n",
       "  User    Meta Len Win Nom\n",
       "1 423.838 91   121 36  22 \n",
       "2 201.748 92   103 35  41 \n",
       "3 191.179 83   127 15  39 \n",
       "4 263.202 89   100 35  36 \n",
       "5 233.977 83    89 27  22 \n",
       "6 355.801 63   143 28  74 "
      ]
     },
     "metadata": {},
     "output_type": "display_data"
    },
    {
     "data": {
      "text/plain": [
       "    Movie                Box             Rate            User       \n",
       " Length:25          Min.   :100.3   Min.   :5.300   Min.   : 25.51  \n",
       " Class :character   1st Qu.:118.2   1st Qu.:6.300   1st Qu.: 57.84  \n",
       " Mode  :character   Median :215.4   Median :7.100   Median :125.89  \n",
       "                    Mean   :220.3   Mean   :7.024   Mean   :141.93  \n",
       "                    3rd Qu.:293.0   3rd Qu.:8.000   3rd Qu.:191.18  \n",
       "                    Max.   :460.9   Max.   :8.800   Max.   :423.84  \n",
       "      Meta            Len             Win             Nom       \n",
       " Min.   :25.00   Min.   : 89.0   Min.   : 1.00   Min.   : 1.00  \n",
       " 1st Qu.:45.00   1st Qu.: 98.0   1st Qu.: 3.00   1st Qu.: 7.00  \n",
       " Median :64.00   Median :115.0   Median : 9.00   Median :15.00  \n",
       " Mean   :63.08   Mean   :114.7   Mean   :13.64   Mean   :19.56  \n",
       " 3rd Qu.:81.00   3rd Qu.:126.0   3rd Qu.:18.00   3rd Qu.:28.00  \n",
       " Max.   :92.00   Max.   :157.0   Max.   :56.00   Max.   :74.00  "
      ]
     },
     "metadata": {},
     "output_type": "display_data"
    }
   ],
   "source": [
    "df_2 <- read_csv(\"movies.csv\")\n",
    "\n",
    "head(df_2)\n",
    "\n",
    "summary(df_2)"
   ]
  },
  {
   "cell_type": "markdown",
   "id": "8d4f9fdd",
   "metadata": {},
   "source": [
    "#### (a) Write out a regression equation for a multiple linear regression model for predicting response Box from just three predictors: Rate, User, and Meta."
   ]
  },
  {
   "cell_type": "code",
   "execution_count": 10,
   "id": "c7ce4449",
   "metadata": {
    "vscode": {
     "languageId": "r"
    }
   },
   "outputs": [
    {
     "data": {
      "text/plain": [
       "\n",
       "Call:\n",
       "lm(formula = y ~ ., data = X)\n",
       "\n",
       "Residuals:\n",
       "    Min      1Q  Median      3Q     Max \n",
       "-49.202 -22.749  -3.598   7.266  90.059 \n",
       "\n",
       "Coefficients:\n",
       "             Estimate Std. Error t value Pr(>|t|)   \n",
       "(Intercept) -169.0862    92.0925  -1.836  0.08055 . \n",
       "Rate          35.4962    18.9956   1.869  0.07569 . \n",
       "User           0.4328     0.1472   2.940  0.00783 **\n",
       "Meta           1.2462     0.8047   1.549  0.13640   \n",
       "---\n",
       "Signif. codes:  0 '***' 0.001 '**' 0.01 '*' 0.05 '.' 0.1 ' ' 1\n",
       "\n",
       "Residual standard error: 39.53 on 21 degrees of freedom\n",
       "Multiple R-squared:  0.8841,\tAdjusted R-squared:  0.8675 \n",
       "F-statistic: 53.37 on 3 and 21 DF,  p-value: 5.35e-10\n"
      ]
     },
     "metadata": {},
     "output_type": "display_data"
    }
   ],
   "source": [
    "predictors = c('Rate', 'User', 'Meta')\n",
    "\n",
    "X <- df_2 %>%\n",
    "    select(all_of(predictors))\n",
    "\n",
    "y <- df_2$Box\n",
    "\n",
    "second <- lm(y ~ . , data=X)\n",
    "\n",
    "summary(second)"
   ]
  },
  {
   "cell_type": "markdown",
   "id": "94c142fd",
   "metadata": {},
   "source": [
    "$$\n",
    "E(Box) = 35.4962 \\cdot Rate + 0.4328 \\cdot User + 1.2462 \\cdot Meta - 169.0862 \n",
    "$$"
   ]
  },
  {
   "cell_type": "markdown",
   "id": "b9ab6980",
   "metadata": {},
   "source": [
    "#### (b) Interpret the estimated regression parameter for Rate in the context of the problem.\n",
    "\n",
    "The coefficient of the `Rate` indicates that the `Box` value of a specific movie increase by $35.4962$ unit for every increase in its rating on Internet Movie Database (`Rate`).\n"
   ]
  },
  {
   "cell_type": "markdown",
   "id": "b3f0bfc8",
   "metadata": {},
   "source": [
    "#### (c) Look at the graph produced by the ”plot” function to do assumption checks for the model in item (a)"
   ]
  },
  {
   "cell_type": "code",
   "execution_count": 11,
   "id": "ad018e12",
   "metadata": {
    "vscode": {
     "languageId": "r"
    }
   },
   "outputs": [
    {
     "data": {
      "image/png": "[encoded data removed]",
      "text/plain": [
       "Plot with title \"\""
      ]
     },
     "metadata": {
      "image/png": {
       "height": 300,
       "width": 600
      }
     },
     "output_type": "display_data"
    },
    {
     "data": {
      "image/png": "[encoded data removed]",
      "text/plain": [
       "Plot with title \"\""
      ]
     },
     "metadata": {
      "image/png": {
       "height": 300,
       "width": 600
      }
     },
     "output_type": "display_data"
    },
    {
     "data": {
      "image/png": "[encoded data removed]",
      "text/plain": [
       "Plot with title \"\""
      ]
     },
     "metadata": {
      "image/png": {
       "height": 300,
       "width": 600
      }
     },
     "output_type": "display_data"
    },
    {
     "data": {
      "image/png": "[encoded data removed]",
      "text/plain": [
       "Plot with title \"\""
      ]
     },
     "metadata": {
      "image/png": {
       "height": 300,
       "width": 600
      }
     },
     "output_type": "display_data"
    }
   ],
   "source": [
    "plot(second)"
   ]
  },
  {
   "cell_type": "markdown",
   "id": "b10dd4e1",
   "metadata": {
    "vscode": {
     "languageId": "r"
    }
   },
   "source": [
    "The `Residuals vs Fitted` plot showed a randomly distributed residuals around the fitted line as there's no discernable pattern of either decreasing or increasing in residuals as the fitted values increases. This indicates that the **errors terms are independent**. \n",
    "\n",
    "The `Normal Q-Q` plot on the other hand estimates that the residual distribution does not stray too far away from normal distribution or is **approximately normally distribute**. \n",
    "\n",
    "The `Scale-Location` shows a relatively horizantal line accross all range of fitted values indicating that the errors are **approximately equal in variance**.\n",
    "\n",
    "Therefore, we could represent `Box` as a linear function of `Rate`, `User`, and `Meta` plus some error."
   ]
  },
  {
   "cell_type": "markdown",
   "id": "71c67c9d",
   "metadata": {},
   "source": [
    "#### (d) Use statistical software to fit the following complete model for Box as a function of all six predictor variables :\n",
    "$$E(Box) = \\beta_0 + \\beta_1 · Rate + \\beta_2 · User + \\beta_3 · Meta + \\beta_4 · Len + \\beta_5 · Win + \\beta_6 · Nom$$"
   ]
  },
  {
   "cell_type": "code",
   "execution_count": 12,
   "id": "9ed3d9d7",
   "metadata": {
    "vscode": {
     "languageId": "r"
    }
   },
   "outputs": [
    {
     "data": {
      "text/plain": [
       "\n",
       "Call:\n",
       "lm(formula = y ~ ., data = X)\n",
       "\n",
       "Residuals:\n",
       "    Min      1Q  Median      3Q     Max \n",
       "-53.161 -22.013  -3.864   9.517  84.574 \n",
       "\n",
       "Coefficients:\n",
       "              Estimate Std. Error t value Pr(>|t|)  \n",
       "(Intercept) -172.28110  106.51894  -1.617   0.1232  \n",
       "Rate          35.34769   22.44744   1.575   0.1327  \n",
       "User           0.38894    0.19304   2.015   0.0591 .\n",
       "Meta           1.25615    0.89110   1.410   0.1757  \n",
       "Len            0.02473    0.54429   0.045   0.9643  \n",
       "Win           -0.02080    1.33384  -0.016   0.9877  \n",
       "Nom            0.37261    0.87286   0.427   0.6745  \n",
       "---\n",
       "Signif. codes:  0 '***' 0.001 '**' 0.01 '*' 0.05 '.' 0.1 ' ' 1\n",
       "\n",
       "Residual standard error: 42.45 on 18 degrees of freedom\n",
       "Multiple R-squared:  0.8854,\tAdjusted R-squared:  0.8472 \n",
       "F-statistic: 23.18 on 6 and 18 DF,  p-value: 1.505e-07\n"
      ]
     },
     "metadata": {},
     "output_type": "display_data"
    }
   ],
   "source": [
    "X <- df_2 %>%\n",
    "    select(-c(\"Box\", \"Movie\"))\n",
    "\n",
    "third <- lm(y ~ ., data=X)\n",
    "summary(third)"
   ]
  },
  {
   "cell_type": "markdown",
   "id": "03c5486e",
   "metadata": {
    "vscode": {
     "languageId": "r"
    }
   },
   "source": [
    "$$E(Box) = -172.28110 + \n",
    "35.34769 \\cdot Rate + \n",
    "0.38894 \\cdot User + \n",
    "1.25615 \\cdot Meta + \n",
    "0.02473 \\cdot Len + \n",
    "-0.02080 \\cdot Win + \n",
    "0.37261 \\cdot Nom$$"
   ]
  },
  {
   "cell_type": "code",
   "execution_count": 13,
   "id": "c0b397ce",
   "metadata": {
    "vscode": {
     "languageId": "r"
    }
   },
   "outputs": [
    {
     "name": "stdout",
     "output_type": "stream",
     "text": [
      "[1] \"RSS: 32435.307635756\"\n"
     ]
    }
   ],
   "source": [
    "rss_3 <- sum(residuals(third)^2)\n",
    "\n",
    "print(paste(\"RSS:\", rss_3))"
   ]
  },
  {
   "cell_type": "markdown",
   "id": "6a1509ea",
   "metadata": {},
   "source": [
    "#### (e) Use statistical software to fit the following reduced model:\n",
    "$$E(Box) = \\beta_0 + \n",
    "\\beta_1 \\cdot Rate + \n",
    "\\beta_2 \\cdot User + \n",
    "\\beta_3 \\cdot Meta$$"
   ]
  },
  {
   "cell_type": "code",
   "execution_count": 14,
   "id": "1e535272",
   "metadata": {
    "vscode": {
     "languageId": "r"
    }
   },
   "outputs": [
    {
     "data": {
      "text/plain": [
       "\n",
       "Call:\n",
       "lm(formula = y ~ ., data = X)\n",
       "\n",
       "Coefficients:\n",
       "(Intercept)         Rate         User         Meta  \n",
       "  -169.0862      35.4962       0.4328       1.2462  \n"
      ]
     },
     "metadata": {},
     "output_type": "display_data"
    }
   ],
   "source": [
    "second"
   ]
  },
  {
   "cell_type": "markdown",
   "id": "9ae07544",
   "metadata": {
    "vscode": {
     "languageId": "r"
    }
   },
   "source": [
    "$$E(Box) = -169.0862 + \n",
    "35.4962 \\cdot Rate + \n",
    "0.4328 \\cdot User + \n",
    "1.2462 \\cdot Meta$$"
   ]
  },
  {
   "cell_type": "code",
   "execution_count": 15,
   "id": "32264f60",
   "metadata": {
    "vscode": {
     "languageId": "r"
    }
   },
   "outputs": [
    {
     "name": "stdout",
     "output_type": "stream",
     "text": [
      "[1] \"RSS: 32822.9630548776\"\n"
     ]
    }
   ],
   "source": [
    "rss_2 <- sum(residuals(second)^2)\n",
    "\n",
    "print(paste(\"RSS:\", rss_2))"
   ]
  },
  {
   "cell_type": "markdown",
   "id": "388b9f19",
   "metadata": {},
   "source": [
    "#### (f) Compare the values of residual standard error (s) and adjusted R2 in the reduced and complete models"
   ]
  },
  {
   "cell_type": "code",
   "execution_count": 16,
   "id": "1ee166ab",
   "metadata": {
    "vscode": {
     "languageId": "r"
    }
   },
   "outputs": [
    {
     "name": "stdout",
     "output_type": "stream",
     "text": [
      "[1] \"Adjusted R-squared (Reduced Model): 0.867494395985699\"\n",
      "[1] \"Residual standard error (Reduced Model): 39.5347725516217\"\n"
     ]
    }
   ],
   "source": [
    "second_summary <- summary(second)\n",
    "\n",
    "second_adj_r_squared <- second_summary$adj.r.squared\n",
    "\n",
    "second_residual_se <- second_summary$sigma\n",
    "\n",
    "print(paste(\"Adjusted R-squared (Reduced Model):\", second_adj_r_squared))\n",
    "print(paste(\"Residual standard error (Reduced Model):\", second_residual_se))"
   ]
  },
  {
   "cell_type": "code",
   "execution_count": 17,
   "id": "d710f8ff",
   "metadata": {
    "vscode": {
     "languageId": "r"
    }
   },
   "outputs": [
    {
     "name": "stdout",
     "output_type": "stream",
     "text": [
      "[1] \"Adjusted R-squared (Complete Model): 0.847235911449358\"\n",
      "[1] \"Residual standard error (Complete Model): 42.4495174921904\"\n"
     ]
    }
   ],
   "source": [
    "third_summary <- summary(third)\n",
    "\n",
    "third_adj_r_squared <- third_summary$adj.r.squared\n",
    "\n",
    "third_residual_se <- third_summary$sigma\n",
    "\n",
    "print(paste(\"Adjusted R-squared (Complete Model):\", third_adj_r_squared))\n",
    "print(paste(\"Residual standard error (Complete Model):\", third_residual_se))"
   ]
  },
  {
   "cell_type": "code",
   "execution_count": 18,
   "id": "52d8e6e1",
   "metadata": {
    "vscode": {
     "languageId": "r"
    }
   },
   "outputs": [
    {
     "name": "stdout",
     "output_type": "stream",
     "text": [
      "[1] \"ADJ_R^2 difference (Complete - Reduced): -0.0202584845363406\"\n"
     ]
    }
   ],
   "source": [
    "print(paste(\"ADJ_R^2 difference (Complete - Reduced):\", third_adj_r_squared - second_adj_r_squared))"
   ]
  },
  {
   "cell_type": "code",
   "execution_count": 19,
   "id": "57d1180d",
   "metadata": {
    "vscode": {
     "languageId": "r"
    }
   },
   "outputs": [
    {
     "name": "stdout",
     "output_type": "stream",
     "text": [
      "[1] \"Resid SE difference (Complete - Reduced): 2.9147449405687\"\n"
     ]
    }
   ],
   "source": [
    "print(paste(\"Resid SE difference (Complete - Reduced):\", third_residual_se - second_residual_se))"
   ]
  },
  {
   "cell_type": "markdown",
   "id": "588c9fba",
   "metadata": {},
   "source": [
    "It appears that the Reduced Model performed better! \n",
    "\n",
    "For **Adj $R^2$**, the reduced model is greater than complete model by around 2%. This means that `Rate`, `User`, and `Meta` to better explain the variance in `Box`, at least compared to using all the given feautures.\n",
    "\n",
    "This insight was further supported by the fact the Residual Standard Error of reduced model is approximately 2.91 less than that of complete model. This simply means that the error term in reduced model is much more behave and thus attain more predictive credential (because the predictions are closer to the actual values) compared to complete model.\n",
    "\n",
    "With all that been said, we can conclude that **reduced model fit better and thus perform better than the complete model** indicating that simpler model may sometimes be preferable compared to complex ones."
   ]
  }
 ],
 "metadata": {
  "kernelspec": {
   "display_name": "R",
   "language": "R",
   "name": "ir"
  },
  "language_info": {
   "codemirror_mode": "r",
   "file_extension": ".r",
   "mimetype": "text/x-r-source",
   "name": "R",
   "pygments_lexer": "r",
   "version": "4.1.3"
  }
 },
 "nbformat": 4,
 "nbformat_minor": 5
}
