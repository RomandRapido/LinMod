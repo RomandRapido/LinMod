{
 "cells": [
  {
   "cell_type": "markdown",
   "id": "d47fbdf9-1d96-4e58-a3fb-42b1478cddff",
   "metadata": {},
   "source": [
    "<div style=\"text-align: center;\"> <h3>Linear Model</h3>\n",
    "<h5>Problem Set 2</h5>\n",
    "<h5>April 22, 2025</h5>    \n",
    "<h5><u>By Romand Lansangan</u></h5>\n",
    "    </div>\n",
    "    \n",
    "---"
   ]
  },
  {
   "cell_type": "markdown",
   "id": "232f4504",
   "metadata": {},
   "source": [
    "## Internet Use and GDP\n",
    "\n",
    "The U.S. Central Intelligence Agency (2010) contains information on topics such as geography, people, the economy, communications, and transportation for most countries in the world. For example, the INTERNET data file contains data from 2010 relating to gross domestic product (GDP) per capita in thousands of dollars (Gdp) and the percentage of the population that are Internet users (Int) for 212 countries. Here, GDP is based on purchasing power parities to account for between-country differences in price levels. This problem investigates whether there is a linear association between these two variables. In particular, **how effective is it to use Gdp to predict Int using simple linear regression?**"
   ]
  },
  {
   "cell_type": "code",
   "execution_count": null,
   "id": "dae18d02",
   "metadata": {
    "vscode": {
     "languageId": "r"
    }
   },
   "outputs": [],
   "source": [
    "library(tidyverse)\n",
    "library(ggplot2)\n",
    "\n",
    "options(repr.plot.width=10, repr.plot.height=5)\n"
   ]
  },
  {
   "cell_type": "code",
   "execution_count": null,
   "id": "2103f5ba",
   "metadata": {
    "scrolled": true,
    "vscode": {
     "languageId": "r"
    }
   },
   "outputs": [],
   "source": [
    "df <- read_csv(\"internet.csv\")\n",
    "head(df)"
   ]
  },
  {
   "cell_type": "code",
   "execution_count": null,
   "id": "18b03211-dece-4226-9d76-c247c272643c",
   "metadata": {},
   "outputs": [],
   "source": [
    "nrow(df)"
   ]
  },
  {
   "cell_type": "code",
   "execution_count": null,
   "id": "a1148fad",
   "metadata": {
    "vscode": {
     "languageId": "r"
    }
   },
   "outputs": [],
   "source": [
    "summary(df)"
   ]
  },
  {
   "cell_type": "markdown",
   "id": "36fce772",
   "metadata": {},
   "source": [
    "#### (a) Find the least squares line for the data, that is, use statistical software to find the intercept and slope of the least squares line, and write out the equation of that line."
   ]
  },
  {
   "cell_type": "code",
   "execution_count": null,
   "id": "5442833a",
   "metadata": {
    "vscode": {
     "languageId": "r"
    }
   },
   "outputs": [],
   "source": [
    "first <- lm(Int ~ Gdp, data = df)\n",
    "summary(first)\n",
    "plot(first)"
   ]
  },
  {
   "cell_type": "markdown",
   "id": "da834700",
   "metadata": {},
   "source": [
    "The `Residuals vs Fitted` plot showed a randomly distributed residuals around the fitted line as there's no discernable pattern of either decreasing or increasing in residuals as the fitted values increases. This indicates that the errors terms are independent. \n",
    "\n",
    "The `Normal Q-Q` plot on the other hand estimates that the residual distribution does not stray too far away from normal distribution. \n",
    "\n",
    "The `Scale-Location` shows a relatively horizantal line accross all range of fitted values indicating an approximately equal in variance.\n",
    "\n",
    "Therefore, we could get `Int` as a linear function of `Gdp` plus some error."
   ]
  },
  {
   "cell_type": "code",
   "execution_count": null,
   "id": "cac8c5a9",
   "metadata": {
    "vscode": {
     "languageId": "r"
    }
   },
   "outputs": [],
   "source": [
    "coefs <- coef(first)\n",
    "\n",
    "slope = coefs[2]\n",
    "intercept = coefs[1]\n",
    "\n",
    "print(paste(\"Slope:\", slope))\n",
    "print(paste(\"Intercept:\", intercept))"
   ]
  },
  {
   "cell_type": "markdown",
   "id": "3865052c",
   "metadata": {},
   "source": [
    "The regression line can then be written as:\n",
    "\n",
    "$$\n",
    "E(INT) = 1.36092659265485\\cdot GDP +  12.3627753941145\n",
    "$$"
   ]
  },
  {
   "cell_type": "markdown",
   "id": "42f24789",
   "metadata": {},
   "source": [
    "#### (b) Interpret the estimates of the slope and the intercept in the context of the problem."
   ]
  },
  {
   "cell_type": "markdown",
   "id": "43c581c6",
   "metadata": {},
   "source": [
    "The slope of $1.36092659265485$ indicates that the `Int` (or the percentage of population in a country that are internet users) increases by $1.36092659265485$ unit for every unit increase in `GDP` (or the gross domestic product per capita in thousands of dollars). \n",
    "\n",
    "The intercept of $12.3627753941145$ indicates that if `GDP=0`,. `INT` has a default value of $12.3627753941145$ which doesn't make sense but the intercept of the linear model is simply a mathematical extrapolation beyond the observable data range, at least in this case. This interpretation is more of theorethical than practical due to the fact that the range of the independent variable doesn't include 0."
   ]
  },
  {
   "cell_type": "markdown",
   "id": "091f63c1",
   "metadata": {},
   "source": [
    "#### (c) Predict the percentage of Internet users if GDP per capita is $20,000."
   ]
  },
  {
   "cell_type": "code",
   "execution_count": null,
   "id": "68ae50a9",
   "metadata": {
    "vscode": {
     "languageId": "r"
    }
   },
   "outputs": [],
   "source": [
    "gdp = 20000 \n",
    "\n",
    "manual_prediction <- intercept + slope * (gdp/1000) # Gdp is in thousands\n",
    "print(manual_prediction)"
   ]
  },
  {
   "cell_type": "markdown",
   "id": "7a2f631c",
   "metadata": {},
   "source": [
    "#### (d) Draw a scatterplot with Int on the vertical axis and Gdp on the horizontal axis, and add the least squares line to the plot."
   ]
  },
  {
   "cell_type": "code",
   "execution_count": null,
   "id": "19b45f8d",
   "metadata": {
    "vscode": {
     "languageId": "r"
    }
   },
   "outputs": [],
   "source": [
    "ggplot(df) +\n",
    "  geom_point(aes(x = Gdp, y = Int), col = \"blue\") +\n",
    "  geom_smooth(aes(x = Gdp, y = Int, color = \"Regression Line (LSM)\"), \n",
    "              method = \"lm\", se = FALSE, formula = y ~ x, linewidth = 1) +\n",
    "  ggtitle(\"GDP vs Internet\") + \n",
    "  ylab(\"Internet\") + \n",
    "  xlab(\"GDP\") +\n",
    "  theme(plot.title = element_text(hjust = 0.5)) "
   ]
  },
  {
   "cell_type": "markdown",
   "id": "4e06492a",
   "metadata": {},
   "source": [
    "## Movie Data and Box Office Receipts\n",
    "\n",
    "The MOVIES data file contains data on 25 movies from “The Internet Movie Database” (www.imdb.com). Based on this dataset, we wish to investigate whether all-time US box office receipts (Box, in millions of US dollars unadjusted for inflation) are associated with any of the following variables:\n",
    "* Rate = Internet Movie Database user rating (out of 10)\n",
    "* User = Internet Movie Database users rating the movie (in thousands)\n",
    "* Meta = “Metascore” based on 35 critic reviews (out of 100)\n",
    "* Len = Runtime (in minutes)\n",
    "* Win = Award wins\n",
    "* Nom = Award nominations\n",
    "\n",
    "Theatrical box office receipts (movie ticket sales) may include theatrical re-release receipts, but exclude video rentals, television rights, and other revenues."
   ]
  },
  {
   "cell_type": "code",
   "execution_count": null,
   "id": "0cbf45ac",
   "metadata": {
    "vscode": {
     "languageId": "r"
    }
   },
   "outputs": [],
   "source": [
    "df_2 <- read_csv(\"movies.csv\")\n",
    "\n",
    "head(df_2)\n",
    "\n",
    "summary(df_2)"
   ]
  },
  {
   "cell_type": "markdown",
   "id": "8d4f9fdd",
   "metadata": {},
   "source": [
    "#### (a) Write out a regression equation for a multiple linear regression model for predicting response Box from just three predictors: Rate, User, and Meta."
   ]
  },
  {
   "cell_type": "code",
   "execution_count": null,
   "id": "c7ce4449",
   "metadata": {
    "vscode": {
     "languageId": "r"
    }
   },
   "outputs": [],
   "source": [
    "predictors = c('Rate', 'User', 'Meta')\n",
    "\n",
    "X <- df_2 %>%\n",
    "    select(all_of(predictors))\n",
    "\n",
    "y <- df_2$Box\n",
    "\n",
    "second <- lm(y ~ . , data=X)\n",
    "\n",
    "summary(second)"
   ]
  },
  {
   "cell_type": "markdown",
   "id": "94c142fd",
   "metadata": {},
   "source": [
    "$$\n",
    "E(Box) = 35.4962 \\cdot Rate + 0.4328 \\cdot User + 1.2462 \\cdot Meta - 169.0862 \n",
    "$$"
   ]
  },
  {
   "cell_type": "markdown",
   "id": "b9ab6980",
   "metadata": {},
   "source": [
    "#### (b) Interpret the estimated regression parameter for Rate in the context of the problem.\n",
    "\n",
    "The coefficient of the `Rate` indicates that the `Box` value of a specific movie increase by $35.4962$ unit for every increase in its rating on Internet Movie Database (`Rate`).\n"
   ]
  },
  {
   "cell_type": "markdown",
   "id": "b3f0bfc8",
   "metadata": {},
   "source": [
    "#### (c) Look at the graph produced by the ”plot” function to do assumption checks for the model in item (a)"
   ]
  },
  {
   "cell_type": "code",
   "execution_count": null,
   "id": "ad018e12",
   "metadata": {
    "vscode": {
     "languageId": "r"
    }
   },
   "outputs": [],
   "source": [
    "plot(second)"
   ]
  },
  {
   "cell_type": "markdown",
   "id": "b10dd4e1",
   "metadata": {
    "vscode": {
     "languageId": "r"
    }
   },
   "source": [
    "The `Residuals vs Fitted` plot showed a randomly distributed residuals around the fitted line as there's no discernable pattern of either decreasing or increasing in residuals as the fitted values increases. This indicates that the **errors terms are independent**. \n",
    "\n",
    "The `Normal Q-Q` plot on the other hand estimates that the residual distribution does not stray too far away from normal distribution or is **approximately normally distribute**. \n",
    "\n",
    "The `Scale-Location` shows a relatively horizantal line accross all range of fitted values indicating that the errors are **approximately equal in variance**.\n",
    "\n",
    "Therefore, we could represent `Box` as a linear function of `Rate`, `User`, and `Meta` plus some error."
   ]
  },
  {
   "cell_type": "markdown",
   "id": "71c67c9d",
   "metadata": {},
   "source": [
    "#### (d) Use statistical software to fit the following complete model for Box as a function of all six predictor variables :\n",
    "$$E(Box) = \\beta_0 + \\beta_1 · Rate + \\beta_2 · User + \\beta_3 · Meta + \\beta_4 · Len + \\beta_5 · Win + \\beta_6 · Nom$$"
   ]
  },
  {
   "cell_type": "code",
   "execution_count": null,
   "id": "9ed3d9d7",
   "metadata": {
    "vscode": {
     "languageId": "r"
    }
   },
   "outputs": [],
   "source": [
    "X <- df_2 %>%\n",
    "    select(-c(\"Box\", \"Movie\"))\n",
    "\n",
    "third <- lm(y ~ ., data=X)\n",
    "summary(third)"
   ]
  },
  {
   "cell_type": "markdown",
   "id": "03c5486e",
   "metadata": {
    "vscode": {
     "languageId": "r"
    }
   },
   "source": [
    "$$E(Box) = -172.28110 + \n",
    "35.34769 \\cdot Rate + \n",
    "0.38894 \\cdot User + \n",
    "1.25615 \\cdot Meta + \n",
    "0.02473 \\cdot Len + \n",
    "-0.02080 \\cdot Win + \n",
    "0.37261 \\cdot Nom$$"
   ]
  },
  {
   "cell_type": "code",
   "execution_count": null,
   "id": "c0b397ce",
   "metadata": {
    "vscode": {
     "languageId": "r"
    }
   },
   "outputs": [],
   "source": [
    "rss_3 <- sum(residuals(third)^2)\n",
    "\n",
    "print(paste(\"RSS:\", rss_3))"
   ]
  },
  {
   "cell_type": "markdown",
   "id": "6a1509ea",
   "metadata": {},
   "source": [
    "#### (e) Use statistical software to fit the following reduced model:\n",
    "$$E(Box) = \\beta_0 + \n",
    "\\beta_1 \\cdot Rate + \n",
    "\\beta_2 \\cdot User + \n",
    "\\beta_3 \\cdot Meta$$"
   ]
  },
  {
   "cell_type": "code",
   "execution_count": null,
   "id": "1e535272",
   "metadata": {
    "vscode": {
     "languageId": "r"
    }
   },
   "outputs": [],
   "source": [
    "second"
   ]
  },
  {
   "cell_type": "markdown",
   "id": "9ae07544",
   "metadata": {
    "vscode": {
     "languageId": "r"
    }
   },
   "source": [
    "$$E(Box) = -169.0862 + \n",
    "35.4962 \\cdot Rate + \n",
    "0.4328 \\cdot User + \n",
    "1.2462 \\cdot Meta$$"
   ]
  },
  {
   "cell_type": "code",
   "execution_count": null,
   "id": "32264f60",
   "metadata": {
    "vscode": {
     "languageId": "r"
    }
   },
   "outputs": [],
   "source": [
    "rss_2 <- sum(residuals(second)^2)\n",
    "\n",
    "print(paste(\"RSS:\", rss_2))"
   ]
  },
  {
   "cell_type": "markdown",
   "id": "388b9f19",
   "metadata": {},
   "source": [
    "#### (f) Compare the values of residual standard error (s) and adjusted R2 in the reduced and complete models"
   ]
  },
  {
   "cell_type": "code",
   "execution_count": null,
   "id": "1ee166ab",
   "metadata": {
    "vscode": {
     "languageId": "r"
    }
   },
   "outputs": [],
   "source": [
    "second_summary <- summary(second)\n",
    "\n",
    "second_adj_r_squared <- second_summary$adj.r.squared\n",
    "\n",
    "second_residual_se <- second_summary$sigma\n",
    "\n",
    "print(paste(\"Adjusted R-squared (Reduced Model):\", second_adj_r_squared))\n",
    "print(paste(\"Residual standard error (Reduced Model):\", second_residual_se))"
   ]
  },
  {
   "cell_type": "code",
   "execution_count": 63,
   "id": "d710f8ff",
   "metadata": {
    "vscode": {
     "languageId": "r"
    }
   },
   "outputs": [
    {
     "ename": "ERROR",
     "evalue": "Error in summary(third): object 'third' not found\n",
     "output_type": "error",
     "traceback": [
      "Error in summary(third): object 'third' not found\nTraceback:\n",
      "1. .handleSimpleError(function (cnd) \n . {\n .     watcher$capture_plot_and_output()\n .     cnd <- sanitize_call(cnd)\n .     watcher$push(cnd)\n .     switch(on_error, continue = invokeRestart(\"eval_continue\"), \n .         stop = invokeRestart(\"eval_stop\"), error = NULL)\n . }, \"object 'third' not found\", base::quote(summary(third)))"
     ]
    }
   ],
   "source": [
    "summary(third)"
   ]
  }
 ],
 "metadata": {
  "kernelspec": {
   "display_name": "R [conda env:base] *",
   "language": "R",
   "name": "conda-base-r"
  },
  "language_info": {
   "codemirror_mode": "r",
   "file_extension": ".r",
   "mimetype": "text/x-r-source",
   "name": "R",
   "pygments_lexer": "r",
   "version": "4.1.3"
  }
 },
 "nbformat": 4,
 "nbformat_minor": 5
}
